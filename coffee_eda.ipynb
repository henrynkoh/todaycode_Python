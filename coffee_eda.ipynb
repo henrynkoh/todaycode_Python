{
 "cells": [
  {
   "cell_type": "markdown",
   "metadata": {},
   "source": [
    "# 소상공인시장진흥공단 상가업소정보로 스타벅스, 이디야 위치 분석하기\n",
    "\n",
    "* 이디야는 스타벅스 근처에 입점한다는 설이 있습니다. 과연 이디야와 스타벅스의 매장입지는 얼마나 차이가 날까요? 관련 기사를 읽고 구별로 이디야와 스타벅스의 매장을 기사와 유사하게 분석하고 시각화 해보면서 Python, Pandas, Numpy, Seaborn, Matplotlib 에 익숙해져 봅니다.\n",
    "\n",
    "## 다루는 내용\n",
    "* 공공데이터를 활용해 텍스트 데이터 정제하고 원하는 정보 찾아내기\n",
    "* 문자열에서 원하는 텍스트 추출하기\n",
    "* 문자열을 활용한 다양한 분석 방법과 위치 정보 사용하기\n",
    "* folium을 통한 위경도 데이터 시각화 이해하기\n",
    "\n",
    "## 실습\n",
    "* 텍스트 데이터 정제하기 -  대소문자로 섞여있는 상호명을 소문자로 변경하고 상호명 추출하기\n",
    "* 텍스트 데이터에서 원하는 정보 추출하기 - 브랜드명 컬럼을 만들고 구별 매장 수 분석하기\n",
    "* folium을 통해 지도에 분석한 내용을 표현하기\n",
    "\n",
    "\n",
    "## 데이터셋\n",
    "* https://www.data.go.kr/dataset/15012005/fileData.do\n",
    "* 구별로 매장수를 표현하기 위해 GeoJSON 파일 로드\n",
    "    * 파일출처 : [southkorea/seoul-maps: Seoul administrative divisions in ESRI Shapefile, GeoJSON and TopoJSON formats.](https://github.com/southkorea/seoul-maps)\n",
    "    * 이 링크에서도 다운로드가 가능합니다. https://drive.google.com/open?id=13j8-_XLdPe0pptsqu8-uyE-0Ym6V2jw5\n",
    "\n",
    "## 관련기사\n",
    "* [[비즈&빅데이터]스타벅스 '쏠림' vs 이디야 '분산'](http://news.bizwatch.co.kr/article/consumer/2018/01/19/0015)"
   ]
  },
  {
   "cell_type": "code",
   "execution_count": 2,
   "metadata": {},
   "outputs": [
    {
     "name": "stdout",
     "output_type": "stream",
     "text": [
      " C 드라이브의 볼륨에는 이름이 없습니다.\n",
      " 볼륨 일련 번호: 8E32-2172\n",
      "\n",
      " C:\\Users\\SWH\\Desktop\\Python\\data 디렉터리\n",
      "\n",
      "2020-03-04  오후 07:46    <DIR>          .\n",
      "2020-03-04  오후 07:46    <DIR>          ..\n",
      "2020-03-04  오후 06:03               958 covid19_dates.csv\n",
      "2020-03-04  오후 07:45               303 covid19_korea.csv\n",
      "2020-03-02  오후 10:09               326 lethal.csv\n",
      "2020-03-02  오후 10:07               329 Lethality.csv\n",
      "2020-03-04  오후 01:29           214,003 patient.csv\n",
      "2020-03-04  오후 01:29             4,514 route.csv\n",
      "2020-02-27  오후 01:52            57,732 seoul_municipalities_geo_simple.json\n",
      "2020-02-27  오후 02:00       304,982,279 store_201906_01.csv\n",
      "2020-03-04  오후 01:29             1,995 time.csv\n",
      "2020-03-02  오후 08:38               798 사망자정보.csv\n",
      "2020-03-01  오후 09:19            11,113 사망자정보.xlsx\n",
      "2020-02-20  오후 04:08             2,163 전국 평균 분양가격(2013년 9월부터 2015년 8월까지).csv\n",
      "2020-02-20  오후 04:08           149,663 주택도시보증공사_전국 평균 분양가격(2019년 8월)_20190917.csv\n",
      "              13개 파일         305,426,176 바이트\n",
      "               2개 디렉터리  99,963,633,664 바이트 남음\n"
     ]
    }
   ],
   "source": [
    "# 파일의 목록 확인하기\n",
    "%ls C:\\Users\\SWH\\Desktop\\Python\\data"
   ]
  },
  {
   "cell_type": "code",
   "execution_count": 3,
   "metadata": {},
   "outputs": [],
   "source": [
    "# warning 메시지 제거\n",
    "import warnings\n",
    "warnings.filterwarnings('ignore')"
   ]
  },
  {
   "cell_type": "markdown",
   "metadata": {},
   "source": [
    "# 필요한 라이브러리 불러오기"
   ]
  },
  {
   "cell_type": "code",
   "execution_count": 4,
   "metadata": {},
   "outputs": [],
   "source": [
    "# 판다스, 넘파이, 씨본을 불러오기\n",
    "import pandas as pd\n",
    "import numpy as np\n",
    "import seaborn as sns\n",
    "\n",
    "# 구버전의 주피터 노트북에서 그래프가 보이는 설정하기\n",
    "%matplotlib inline"
   ]
  },
  {
   "cell_type": "markdown",
   "metadata": {},
   "source": [
    "# 시각화를 위한 한글 폰트 설정하기"
   ]
  },
  {
   "cell_type": "code",
   "execution_count": 6,
   "metadata": {},
   "outputs": [],
   "source": [
    "import matplotlib.pyplot as plt\n",
    "# 맑은 고딕\n",
    "plt.rc('font', family='Malgun Gothic')\n",
    "# 폰트깨지는 현상 없애기\n",
    "plt.rc('axes', unicode_minus=False)"
   ]
  },
  {
   "cell_type": "code",
   "execution_count": 7,
   "metadata": {},
   "outputs": [
    {
     "data": {
      "text/plain": [
       "<matplotlib.axes._subplots.AxesSubplot at 0x21fef675b70>"
      ]
     },
     "execution_count": 7,
     "metadata": {},
     "output_type": "execute_result"
    },
    {
     "data": {
      "image/png": "[encoded data removed]",
      "text/plain": [
       "<Figure size 432x288 with 1 Axes>"
      ]
     },
     "metadata": {
      "needs_background": "light"
     },
     "output_type": "display_data"
    }
   ],
   "source": [
    "# 설정 후 -1값이 깨지지 않음\n",
    "pd.Series([-1, 1, 2, 3, 4, 5]).plot()"
   ]
  },
  {
   "cell_type": "markdown",
   "metadata": {},
   "source": [
    "## 데이터 불러오기\n",
    "* 데이터 다운로드 위치 : https://www.data.go.kr/dataset/15012005/fileData.do\n",
    "* 공공데이터 포털에서 소상공인시장진흥공단 상가업소정보를 다운로드 받아 사용했습니다.\n",
    "* 구글드라이브에서 받기 : https://drive.google.com/open?id=1xvJs9ZxUHoBBAUXq1IWEaRXgcop8KjrT"
   ]
  },
  {
   "cell_type": "code",
   "execution_count": 10,
   "metadata": {},
   "outputs": [],
   "source": [
    "# 파일 불러오기\n",
    "df_store = pd.read_csv('C:/Users/SWH/Desktop/Python/data/store_201906_01.csv')"
   ]
  },
  {
   "cell_type": "markdown",
   "metadata": {},
   "source": [
    "# 데이터 크기 보기"
   ]
  },
  {
   "cell_type": "code",
   "execution_count": 11,
   "metadata": {},
   "outputs": [
    {
     "data": {
      "text/plain": [
       "(565016, 39)"
      ]
     },
     "execution_count": 11,
     "metadata": {},
     "output_type": "execute_result"
    }
   ],
   "source": [
    "df_store.shape"
   ]
  },
  {
   "cell_type": "markdown",
   "metadata": {},
   "source": [
    "# info 보기"
   ]
  },
  {
   "cell_type": "code",
   "execution_count": 13,
   "metadata": {},
   "outputs": [
    {
     "name": "stdout",
     "output_type": "stream",
     "text": [
      "<class 'pandas.core.frame.DataFrame'>\n",
      "RangeIndex: 565016 entries, 0 to 565015\n",
      "Data columns (total 39 columns):\n",
      " #   Column     Non-Null Count   Dtype  \n",
      "---  ------     --------------   -----  \n",
      " 0   상가업소번호     565016 non-null  int64  \n",
      " 1   상호명        565015 non-null  object \n",
      " 2   지점명        75524 non-null   object \n",
      " 3   상권업종대분류코드  565016 non-null  object \n",
      " 4   상권업종대분류명   565016 non-null  object \n",
      " 5   상권업종중분류코드  565016 non-null  object \n",
      " 6   상권업종중분류명   565016 non-null  object \n",
      " 7   상권업종소분류코드  565016 non-null  object \n",
      " 8   상권업종소분류명   565016 non-null  object \n",
      " 9   표준산업분류코드   532064 non-null  object \n",
      " 10  표준산업분류명    532064 non-null  object \n",
      " 11  시도코드       565016 non-null  int64  \n",
      " 12  시도명        565016 non-null  object \n",
      " 13  시군구코드      565016 non-null  int64  \n",
      " 14  시군구명       565016 non-null  object \n",
      " 15  행정동코드      565016 non-null  int64  \n",
      " 16  행정동명       565016 non-null  object \n",
      " 17  법정동코드      565016 non-null  int64  \n",
      " 18  법정동명       565016 non-null  object \n",
      " 19  지번코드       565016 non-null  int64  \n",
      " 20  대지구분코드     565016 non-null  int64  \n",
      " 21  대지구분명      565016 non-null  object \n",
      " 22  지번본번지      565016 non-null  int64  \n",
      " 23  지번부번지      467893 non-null  float64\n",
      " 24  지번주소       565016 non-null  object \n",
      " 25  도로명코드      565016 non-null  int64  \n",
      " 26  도로명        565016 non-null  object \n",
      " 27  건물본번지      565016 non-null  int64  \n",
      " 28  건물부번지      70852 non-null   float64\n",
      " 29  건물관리번호     565016 non-null  object \n",
      " 30  건물명        261208 non-null  object \n",
      " 31  도로명주소      565016 non-null  object \n",
      " 32  구우편번호      565016 non-null  int64  \n",
      " 33  신우편번호      565007 non-null  float64\n",
      " 34  동정보        50214 non-null   object \n",
      " 35  층정보        344553 non-null  object \n",
      " 36  호정보        83136 non-null   object \n",
      " 37  경도         565016 non-null  float64\n",
      " 38  위도         565016 non-null  float64\n",
      "dtypes: float64(5), int64(11), object(23)\n",
      "memory usage: 168.1+ MB\n"
     ]
    }
   ],
   "source": [
    "# info를 사용하면 데이터의 전체적인 정보를 볼 수 있다.\n",
    "# 데이터의 사이즈, 타입, 메모리 사용량 등\n",
    "df_store.info()"
   ]
  },
  {
   "cell_type": "markdown",
   "metadata": {},
   "source": [
    "# 결측치 보기"
   ]
  },
  {
   "cell_type": "code",
   "execution_count": 14,
   "metadata": {},
   "outputs": [
    {
     "data": {
      "text/plain": [
       "<matplotlib.axes._subplots.AxesSubplot at 0x21ff2752cc0>"
      ]
     },
     "execution_count": 14,
     "metadata": {},
     "output_type": "execute_result"
    },
    {
     "data": {
      "image/png": "[encoded data removed]",
      "text/plain": [
       "<Figure size 576x648 with 1 Axes>"
      ]
     },
     "metadata": {
      "needs_background": "light"
     },
     "output_type": "display_data"
    }
   ],
   "source": [
    "# isnull() 을 사용하면 데이터의 결측치를 볼 수 있다.\n",
    "# 결측치는 True로 값이 있다면 False로 표시되는데 True 는 1과 같기 때문에 \n",
    "# True 값을 sum()을 사용해서 더하게 되면 합계를 볼 수 있다.\n",
    "df_store.isnull().sum().plot.barh(figsize=(8,9))"
   ]
  },
  {
   "cell_type": "markdown",
   "metadata": {},
   "source": [
    "# 사용하지 않는 컬럼 제거하기"
   ]
  },
  {
   "cell_type": "code",
   "execution_count": 15,
   "metadata": {},
   "outputs": [
    {
     "data": {
      "text/plain": [
       "['동정보', '건물부번지', '지점명', '호정보', '건물명', '층정보', '지번부번지', '표준산업분류명', '표준산업분류코드']"
      ]
     },
     "execution_count": 15,
     "metadata": {},
     "output_type": "execute_result"
    }
   ],
   "source": [
    "# 사용할 컬럼만 따로 불러와서 작업을 할 수도 있지만 사용하지 않는 컬럼을 제거하는 방법도 있다.\n",
    "# 판다스에서는 drop 기능을 사용해서 사용하지 않는 컬럼을 삭제할 수 있다.\n",
    "# 삭제할 컬럼을 drop_columns 라는 변수에 리스트 형태로 담아보도록 한다.\n",
    "\n",
    "null_cols = df_store.isnull().sum().sort_values(ascending=False).head(9)\n",
    "drop_columns = null_cols.index.to_list()\n",
    "drop_columns"
   ]
  },
  {
   "cell_type": "code",
   "execution_count": 16,
   "metadata": {},
   "outputs": [
    {
     "name": "stdout",
     "output_type": "stream",
     "text": [
      "(565016, 39)\n",
      "(565016, 30)\n"
     ]
    }
   ],
   "source": [
    "# drop를 사용해 사용하지 않는 컬럼을 제거\n",
    "# 컬럼을 제거하기 전과 제거 후에 shape 를 통해 컬럼의 수가 달라졌는지 확인\n",
    "print(df_store.shape)\n",
    "# axis가 0이면 행을 기준으로함. 1이면 열을 기준으로함.\n",
    "df_store = df_store.drop(drop_columns, axis=1)\n",
    "print(df_store.shape)"
   ]
  },
  {
   "cell_type": "code",
   "execution_count": 17,
   "metadata": {},
   "outputs": [
    {
     "name": "stdout",
     "output_type": "stream",
     "text": [
      "<class 'pandas.core.frame.DataFrame'>\n",
      "RangeIndex: 565016 entries, 0 to 565015\n",
      "Data columns (total 30 columns):\n",
      " #   Column     Non-Null Count   Dtype  \n",
      "---  ------     --------------   -----  \n",
      " 0   상가업소번호     565016 non-null  int64  \n",
      " 1   상호명        565015 non-null  object \n",
      " 2   상권업종대분류코드  565016 non-null  object \n",
      " 3   상권업종대분류명   565016 non-null  object \n",
      " 4   상권업종중분류코드  565016 non-null  object \n",
      " 5   상권업종중분류명   565016 non-null  object \n",
      " 6   상권업종소분류코드  565016 non-null  object \n",
      " 7   상권업종소분류명   565016 non-null  object \n",
      " 8   시도코드       565016 non-null  int64  \n",
      " 9   시도명        565016 non-null  object \n",
      " 10  시군구코드      565016 non-null  int64  \n",
      " 11  시군구명       565016 non-null  object \n",
      " 12  행정동코드      565016 non-null  int64  \n",
      " 13  행정동명       565016 non-null  object \n",
      " 14  법정동코드      565016 non-null  int64  \n",
      " 15  법정동명       565016 non-null  object \n",
      " 16  지번코드       565016 non-null  int64  \n",
      " 17  대지구분코드     565016 non-null  int64  \n",
      " 18  대지구분명      565016 non-null  object \n",
      " 19  지번본번지      565016 non-null  int64  \n",
      " 20  지번주소       565016 non-null  object \n",
      " 21  도로명코드      565016 non-null  int64  \n",
      " 22  도로명        565016 non-null  object \n",
      " 23  건물본번지      565016 non-null  int64  \n",
      " 24  건물관리번호     565016 non-null  object \n",
      " 25  도로명주소      565016 non-null  object \n",
      " 26  구우편번호      565016 non-null  int64  \n",
      " 27  신우편번호      565007 non-null  float64\n",
      " 28  경도         565016 non-null  float64\n",
      " 29  위도         565016 non-null  float64\n",
      "dtypes: float64(3), int64(11), object(16)\n",
      "memory usage: 129.3+ MB\n"
     ]
    }
   ],
   "source": [
    "df_store.info()"
   ]
  },
  {
   "cell_type": "markdown",
   "metadata": {},
   "source": [
    "# 일부 컬럼만 보기"
   ]
  },
  {
   "cell_type": "code",
   "execution_count": 19,
   "metadata": {},
   "outputs": [
    {
     "data": {
      "text/plain": [
       "0            음식\n",
       "1            음식\n",
       "2            음식\n",
       "3            음식\n",
       "4         생활서비스\n",
       "          ...  \n",
       "565011       음식\n",
       "565012       음식\n",
       "565013    학문/교육\n",
       "565014       소매\n",
       "565015       소매\n",
       "Name: 상권업종대분류명, Length: 565016, dtype: object"
      ]
     },
     "execution_count": 19,
     "metadata": {},
     "output_type": "execute_result"
    }
   ],
   "source": [
    "# '상권업종대분류명'만 가지고 오기\n",
    "df_store['상권업종대분류명']"
   ]
  },
  {
   "cell_type": "code",
   "execution_count": 21,
   "metadata": {},
   "outputs": [
    {
     "data": {
      "text/plain": [
       "0         커피전문점/카페/다방\n",
       "1               호프/맥주\n",
       "2               토스트전문\n",
       "3               호프/맥주\n",
       "4          사우나/증기탕/온천\n",
       "             ...     \n",
       "565011       중국음식/중국집\n",
       "565012       중국음식/중국집\n",
       "565013            독서실\n",
       "565014          전화기판매\n",
       "565015          전화기판매\n",
       "Name: 상권업종소분류명, Length: 565016, dtype: object"
      ]
     },
     "execution_count": 21,
     "metadata": {},
     "output_type": "execute_result"
    }
   ],
   "source": [
    "# '상권업종소분류명'만 가지고 오기\n",
    "df_store['상권업종소분류명']"
   ]
  },
  {
   "cell_type": "code",
   "execution_count": 22,
   "metadata": {},
   "outputs": [
    {
     "data": {
      "text/html": [
       "<div>\n",
       "<style scoped>\n",
       "    .dataframe tbody tr th:only-of-type {\n",
       "        vertical-align: middle;\n",
       "    }\n",
       "\n",
       "    .dataframe tbody tr th {\n",
       "        vertical-align: top;\n",
       "    }\n",
       "\n",
       "    .dataframe thead th {\n",
       "        text-align: right;\n",
       "    }\n",
       "</style>\n",
       "<table border=\"1\" class=\"dataframe\">\n",
       "  <thead>\n",
       "    <tr style=\"text-align: right;\">\n",
       "      <th></th>\n",
       "      <th>상권업종대분류명</th>\n",
       "      <th>상권업종소분류명</th>\n",
       "    </tr>\n",
       "  </thead>\n",
       "  <tbody>\n",
       "    <tr>\n",
       "      <th>0</th>\n",
       "      <td>음식</td>\n",
       "      <td>커피전문점/카페/다방</td>\n",
       "    </tr>\n",
       "    <tr>\n",
       "      <th>1</th>\n",
       "      <td>음식</td>\n",
       "      <td>호프/맥주</td>\n",
       "    </tr>\n",
       "  </tbody>\n",
       "</table>\n",
       "</div>"
      ],
      "text/plain": [
       "  상권업종대분류명     상권업종소분류명\n",
       "0       음식  커피전문점/카페/다방\n",
       "1       음식        호프/맥주"
      ]
     },
     "execution_count": 22,
     "metadata": {},
     "output_type": "execute_result"
    }
   ],
   "source": [
    "# '상권업종대분류명', '상권업종소분류명' 두 개의 컬럼을 가져오기\n",
    "# 2개 이상의 컬럼을 가져올 때는 리스트 형태의 데이터로 묶어서 사용해야 한다.\n",
    "df_store[['상권업종대분류명','상권업종소분류명']].head(2)"
   ]
  },
  {
   "cell_type": "code",
   "execution_count": 24,
   "metadata": {},
   "outputs": [
    {
     "data": {
      "text/plain": [
       "Index(['상가업소번호', '상호명', '상권업종대분류코드', '상권업종대분류명', '상권업종중분류코드', '상권업종중분류명',\n",
       "       '상권업종소분류코드', '상권업종소분류명', '시도코드', '시도명', '시군구코드', '시군구명', '행정동코드',\n",
       "       '행정동명', '법정동코드', '법정동명', '지번코드', '대지구분코드', '대지구분명', '지번본번지', '지번주소',\n",
       "       '도로명코드', '도로명', '건물본번지', '건물관리번호', '도로명주소', '구우편번호', '신우편번호', '경도',\n",
       "       '위도'],\n",
       "      dtype='object')"
      ]
     },
     "execution_count": 24,
     "metadata": {},
     "output_type": "execute_result"
    }
   ],
   "source": [
    "# columns를 사용하면 데이터프레임의 컬럼명만 가져온다.\n",
    "df_store.columns"
   ]
  },
  {
   "cell_type": "code",
   "execution_count": 25,
   "metadata": {},
   "outputs": [
    {
     "data": {
      "text/plain": [
       "(565016, 20)"
      ]
     },
     "execution_count": 25,
     "metadata": {},
     "output_type": "execute_result"
    }
   ],
   "source": [
    "# 컬럼이 많은 편이다.\n",
    "# 모든 컬럼을 다 사용하지 않기 때문에 일부 컬럼만 가져온다.\n",
    "df_columns = ['상가업소번호', '상호명', '상권업종대분류명', \n",
    "       '상권업종중분류명',  '상권업종소분류명', '시도코드',\n",
    "       '시도명', '시군구코드', '시군구명', '행정동명', '법정동명', '지번코드',\n",
    "       '대지구분명', '지번본번지','지번주소', '도로명주소', \n",
    "       '구우편번호', '신우편번호', '경도', '위도']\n",
    "df = df_store[df_columns].copy()\n",
    "df.shape"
   ]
  },
  {
   "cell_type": "markdown",
   "metadata": {},
   "source": [
    "# 일부 텍스트가 들어가는 데이터만 가져오기"
   ]
  },
  {
   "cell_type": "code",
   "execution_count": 26,
   "metadata": {},
   "outputs": [
    {
     "data": {
      "text/html": [
       "<div>\n",
       "<style scoped>\n",
       "    .dataframe tbody tr th:only-of-type {\n",
       "        vertical-align: middle;\n",
       "    }\n",
       "\n",
       "    .dataframe tbody tr th {\n",
       "        vertical-align: top;\n",
       "    }\n",
       "\n",
       "    .dataframe thead th {\n",
       "        text-align: right;\n",
       "    }\n",
       "</style>\n",
       "<table border=\"1\" class=\"dataframe\">\n",
       "  <thead>\n",
       "    <tr style=\"text-align: right;\">\n",
       "      <th></th>\n",
       "      <th>상가업소번호</th>\n",
       "      <th>상호명</th>\n",
       "      <th>상권업종대분류명</th>\n",
       "      <th>상권업종중분류명</th>\n",
       "      <th>상권업종소분류명</th>\n",
       "      <th>시도코드</th>\n",
       "      <th>시도명</th>\n",
       "      <th>시군구코드</th>\n",
       "      <th>시군구명</th>\n",
       "      <th>행정동명</th>\n",
       "      <th>법정동명</th>\n",
       "      <th>지번코드</th>\n",
       "      <th>대지구분명</th>\n",
       "      <th>지번본번지</th>\n",
       "      <th>지번주소</th>\n",
       "      <th>도로명주소</th>\n",
       "      <th>구우편번호</th>\n",
       "      <th>신우편번호</th>\n",
       "      <th>경도</th>\n",
       "      <th>위도</th>\n",
       "    </tr>\n",
       "  </thead>\n",
       "  <tbody>\n",
       "    <tr>\n",
       "      <th>0</th>\n",
       "      <td>19911397</td>\n",
       "      <td>커피빈코리아선릉로93길점</td>\n",
       "      <td>음식</td>\n",
       "      <td>커피점/카페</td>\n",
       "      <td>커피전문점/카페/다방</td>\n",
       "      <td>11</td>\n",
       "      <td>서울특별시</td>\n",
       "      <td>11680</td>\n",
       "      <td>강남구</td>\n",
       "      <td>역삼1동</td>\n",
       "      <td>역삼동</td>\n",
       "      <td>1168010100206960042</td>\n",
       "      <td>대지</td>\n",
       "      <td>696</td>\n",
       "      <td>서울특별시 강남구 역삼동 696-42</td>\n",
       "      <td>서울특별시 강남구 선릉로93길 6</td>\n",
       "      <td>135080</td>\n",
       "      <td>6149.0</td>\n",
       "      <td>127.047883</td>\n",
       "      <td>37.505675</td>\n",
       "    </tr>\n",
       "    <tr>\n",
       "      <th>10</th>\n",
       "      <td>20020124</td>\n",
       "      <td>스완카페트</td>\n",
       "      <td>음식</td>\n",
       "      <td>커피점/카페</td>\n",
       "      <td>커피전문점/카페/다방</td>\n",
       "      <td>11</td>\n",
       "      <td>서울특별시</td>\n",
       "      <td>11560</td>\n",
       "      <td>영등포구</td>\n",
       "      <td>대림3동</td>\n",
       "      <td>대림동</td>\n",
       "      <td>1156013300206040056</td>\n",
       "      <td>대지</td>\n",
       "      <td>604</td>\n",
       "      <td>서울특별시 영등포구 대림동 604-56</td>\n",
       "      <td>서울특별시 영등포구 도신로10가길 11-1</td>\n",
       "      <td>150070</td>\n",
       "      <td>7379.0</td>\n",
       "      <td>126.897710</td>\n",
       "      <td>37.503693</td>\n",
       "    </tr>\n",
       "  </tbody>\n",
       "</table>\n",
       "</div>"
      ],
      "text/plain": [
       "      상가업소번호            상호명 상권업종대분류명 상권업종중분류명     상권업종소분류명  시도코드    시도명  \\\n",
       "0   19911397  커피빈코리아선릉로93길점       음식   커피점/카페  커피전문점/카페/다방    11  서울특별시   \n",
       "10  20020124          스완카페트       음식   커피점/카페  커피전문점/카페/다방    11  서울특별시   \n",
       "\n",
       "    시군구코드  시군구명  행정동명 법정동명                 지번코드 대지구분명  지번본번지  \\\n",
       "0   11680   강남구  역삼1동  역삼동  1168010100206960042    대지    696   \n",
       "10  11560  영등포구  대림3동  대림동  1156013300206040056    대지    604   \n",
       "\n",
       "                     지번주소                    도로명주소   구우편번호   신우편번호  \\\n",
       "0    서울특별시 강남구 역삼동 696-42       서울특별시 강남구 선릉로93길 6  135080  6149.0   \n",
       "10  서울특별시 영등포구 대림동 604-56  서울특별시 영등포구 도신로10가길 11-1  150070  7379.0   \n",
       "\n",
       "            경도         위도  \n",
       "0   127.047883  37.505675  \n",
       "10  126.897710  37.503693  "
      ]
     },
     "execution_count": 26,
     "metadata": {},
     "output_type": "execute_result"
    }
   ],
   "source": [
    "# str.contains를 사용하면 특정 단어가 포함된 데이터를 가져온다.\n",
    "# 여기에서는 '상권업종소분류명'으로 '커피'가 들어가는 단어만 가져온다.\n",
    "df_coffee = df[df['상권업종소분류명'].str.contains('커피')]\n",
    "df_coffee.head(2)"
   ]
  },
  {
   "cell_type": "code",
   "execution_count": 27,
   "metadata": {},
   "outputs": [
    {
     "data": {
      "text/plain": [
       "0         커피빈코리아선릉로93길점\n",
       "10                스완카페트\n",
       "16                   왕실\n",
       "20                  커피빈\n",
       "22         고려대학교교육관쎄리오점\n",
       "              ...      \n",
       "564967           투썸플레이스\n",
       "564968            놀러오시개\n",
       "564969             뉴욕보틀\n",
       "564970        블루빈로스터스커피\n",
       "564971           심리카페멘토\n",
       "Name: 상호명, Length: 23103, dtype: object"
      ]
     },
     "execution_count": 27,
     "metadata": {},
     "output_type": "execute_result"
    }
   ],
   "source": [
    "df_coffee['상호명']"
   ]
  },
  {
   "cell_type": "code",
   "execution_count": 28,
   "metadata": {},
   "outputs": [
    {
     "data": {
      "text/plain": [
       "(15205,)"
      ]
     },
     "execution_count": 28,
     "metadata": {},
     "output_type": "execute_result"
    }
   ],
   "source": [
    "# 상호명으로 봤을 때 커피점의 수를 출력해본다.\n",
    "# unique를 사용하면 중복을 제거한 상호명을 가져온다.\n",
    "# 그리고 shape로 갯수를 출력해본다.\n",
    "df_coffee['상호명'].unique().shape"
   ]
  },
  {
   "cell_type": "code",
   "execution_count": 29,
   "metadata": {},
   "outputs": [
    {
     "data": {
      "text/plain": [
       "15205"
      ]
     },
     "execution_count": 29,
     "metadata": {},
     "output_type": "execute_result"
    }
   ],
   "source": [
    "# nunique 를 사용하면 중복을 제거한 상호명의 갯수를 세어준다.\n",
    "\n",
    "df_coffee['상호명'].nunique()"
   ]
  },
  {
   "cell_type": "code",
   "execution_count": 30,
   "metadata": {},
   "outputs": [
    {
     "data": {
      "text/plain": [
       "1219                스타벅스\n",
       "1946           스타벅스종로3가점\n",
       "2840                스타벅스\n",
       "14939     스타벅스커피여의도IFC1F\n",
       "14951               스타벅스\n",
       "               ...      \n",
       "562067              스타벅스\n",
       "562068              스타벅스\n",
       "562381              스타벅스\n",
       "563162              스타벅스\n",
       "564740              스타벅스\n",
       "Name: 상호명, Length: 602, dtype: object"
      ]
     },
     "execution_count": 30,
     "metadata": {},
     "output_type": "execute_result"
    }
   ],
   "source": [
    "# 스타벅스라는 브랜드명을 어떻게 추출해야 할지 알아보기 위해 중복을 제거한 스타벅스의 상호명만 가져온다.\n",
    "df_coffee.loc[df_coffee['상호명'].str.contains('스타벅스|STARBUCKS'),'상호명']"
   ]
  },
  {
   "cell_type": "markdown",
   "metadata": {},
   "source": [
    "## 시도별 데이터 보기\n",
    "* 시도와 구군 데이터가 있습니다. 어느 시도의 데이터가 있는지 봅니다."
   ]
  },
  {
   "cell_type": "code",
   "execution_count": 32,
   "metadata": {},
   "outputs": [
    {
     "data": {
      "text/plain": [
       "0"
      ]
     },
     "execution_count": 32,
     "metadata": {},
     "output_type": "execute_result"
    }
   ],
   "source": [
    "# 시도에 결측치가 있는지 확인\n",
    "df['시도명'].isnull().sum()"
   ]
  },
  {
   "cell_type": "code",
   "execution_count": 33,
   "metadata": {},
   "outputs": [
    {
     "data": {
      "text/plain": [
       "서울특별시    401071\n",
       "부산광역시    163945\n",
       "Name: 시도명, dtype: int64"
      ]
     },
     "execution_count": 33,
     "metadata": {},
     "output_type": "execute_result"
    }
   ],
   "source": [
    "# 지난 데이터와 마찬가지로 서울과 부산만 있다.\n",
    "# 다른 지역을 참고하고 싶다면 다운로드 받은 공공데이터와 같은 폴더에 있는 다른 파일을 참고\n",
    "df['시도명'].value_counts()"
   ]
  },
  {
   "cell_type": "code",
   "execution_count": 34,
   "metadata": {},
   "outputs": [
    {
     "data": {
      "text/plain": [
       "array(['강남구', '금천구', '사상구', '송파구', '광진구', '강서구', '중구', '영등포구', '서대문구',\n",
       "       '동대문구', '서초구', '성북구', '구로구', '노원구', '동래구', '부산진구', '동작구', '동구',\n",
       "       '수영구', '성동구', '영도구', '관악구', '강동구', '종로구', '양천구', '해운대구', '금정구',\n",
       "       '연제구', '은평구', '기장군', '강북구', '사하구', '마포구', '중랑구', '서구', '도봉구', '북구',\n",
       "       '남구', '용산구'], dtype=object)"
      ]
     },
     "execution_count": 34,
     "metadata": {},
     "output_type": "execute_result"
    }
   ],
   "source": [
    "# 시군구명에서 unique 한 값을 보기\n",
    "\n",
    "df['시군구명'].unique()"
   ]
  },
  {
   "cell_type": "code",
   "execution_count": 35,
   "metadata": {},
   "outputs": [
    {
     "data": {
      "text/plain": [
       "커피점/카페    23103\n",
       "Name: 상권업종중분류명, dtype: int64"
      ]
     },
     "execution_count": 35,
     "metadata": {},
     "output_type": "execute_result"
    }
   ],
   "source": [
    "# coffee 라고 만들어 준 데이터 프레임을 통해 \"상권업종중분류명\"을 value_counts()로 요약해본다.\n",
    "\n",
    "df_coffee['상권업종중분류명'].value_counts()"
   ]
  },
  {
   "cell_type": "code",
   "execution_count": 36,
   "metadata": {},
   "outputs": [
    {
     "data": {
      "text/plain": [
       "<matplotlib.axes._subplots.AxesSubplot at 0x21f8631b2b0>"
      ]
     },
     "execution_count": 36,
     "metadata": {},
     "output_type": "execute_result"
    },
    {
     "data": {
      "image/png": "[encoded data removed]",
      "text/plain": [
       "<Figure size 432x288 with 1 Axes>"
      ]
     },
     "metadata": {
      "needs_background": "light"
     },
     "output_type": "display_data"
    }
   ],
   "source": [
    "# 경도와 위도가 있다. 데이터를 그려본다.\n",
    "\n",
    "df_coffee[['경도','위도']].plot.scatter(x='경도',y='위도')"
   ]
  },
  {
   "cell_type": "markdown",
   "metadata": {},
   "source": [
    "## 서울만 따로 보기"
   ]
  },
  {
   "cell_type": "code",
   "execution_count": 37,
   "metadata": {},
   "outputs": [
    {
     "data": {
      "text/plain": [
       "(401071, 20)"
      ]
     },
     "execution_count": 37,
     "metadata": {},
     "output_type": "execute_result"
    }
   ],
   "source": [
    "# 시도명이 서울로 시작하는 데이터만 본다.\n",
    "# 또, df_seoul 이라는 변수에 결과를 저장한다.\n",
    "# 새로운 변수에 데이터프레임을 할당할 때 copy()를 사용하는 것을 권장함\n",
    "df_seoul = df[df['시도명'] == '서울특별시'].copy()\n",
    "df_seoul.shape"
   ]
  },
  {
   "cell_type": "code",
   "execution_count": 38,
   "metadata": {},
   "outputs": [
    {
     "data": {
      "text/plain": [
       "상가업소번호      0\n",
       "상호명         0\n",
       "상권업종대분류명    0\n",
       "상권업종중분류명    0\n",
       "상권업종소분류명    0\n",
       "시도코드        0\n",
       "시도명         0\n",
       "시군구코드       0\n",
       "시군구명        0\n",
       "행정동명        0\n",
       "법정동명        0\n",
       "지번코드        0\n",
       "대지구분명       0\n",
       "지번본번지       0\n",
       "지번주소        0\n",
       "도로명주소       0\n",
       "구우편번호       0\n",
       "신우편번호       2\n",
       "경도          0\n",
       "위도          0\n",
       "dtype: int64"
      ]
     },
     "execution_count": 38,
     "metadata": {},
     "output_type": "execute_result"
    }
   ],
   "source": [
    "# 서울 데이터의 결측치를 본다.\n",
    "# 위와 동일하게 isnull()과 sum()을 사용해서 결측치의 수를 더할 수 있다.\n",
    "df_seoul.isnull().sum()"
   ]
  },
  {
   "cell_type": "code",
   "execution_count": 39,
   "metadata": {},
   "outputs": [
    {
     "data": {
      "text/plain": [
       "음식          131687\n",
       "소매          124782\n",
       "생활서비스        64344\n",
       "학문/교육        31247\n",
       "의료           18826\n",
       "부동산          15430\n",
       "관광/여가/오락     11578\n",
       "숙박            3047\n",
       "스포츠            130\n",
       "Name: 상권업종대분류명, dtype: int64"
      ]
     },
     "execution_count": 39,
     "metadata": {},
     "output_type": "execute_result"
    }
   ],
   "source": [
    "# 서울에 있는 '상권업종대분류명'을 그룹화 하여 갯수를 세어본다.\n",
    "df_seoul['상권업종대분류명'].value_counts()"
   ]
  },
  {
   "cell_type": "code",
   "execution_count": 40,
   "metadata": {},
   "outputs": [
    {
     "data": {
      "text/html": [
       "<div>\n",
       "<style scoped>\n",
       "    .dataframe tbody tr th:only-of-type {\n",
       "        vertical-align: middle;\n",
       "    }\n",
       "\n",
       "    .dataframe tbody tr th {\n",
       "        vertical-align: top;\n",
       "    }\n",
       "\n",
       "    .dataframe thead th {\n",
       "        text-align: right;\n",
       "    }\n",
       "</style>\n",
       "<table border=\"1\" class=\"dataframe\">\n",
       "  <thead>\n",
       "    <tr style=\"text-align: right;\">\n",
       "      <th></th>\n",
       "      <th>상가업소번호</th>\n",
       "      <th>시도코드</th>\n",
       "      <th>시군구코드</th>\n",
       "      <th>지번코드</th>\n",
       "      <th>지번본번지</th>\n",
       "      <th>구우편번호</th>\n",
       "      <th>신우편번호</th>\n",
       "      <th>경도</th>\n",
       "      <th>위도</th>\n",
       "    </tr>\n",
       "  </thead>\n",
       "  <tbody>\n",
       "    <tr>\n",
       "      <th>count</th>\n",
       "      <td>4.010710e+05</td>\n",
       "      <td>401071.0</td>\n",
       "      <td>401071.000000</td>\n",
       "      <td>4.010710e+05</td>\n",
       "      <td>401071.000000</td>\n",
       "      <td>401071.000000</td>\n",
       "      <td>401069.000000</td>\n",
       "      <td>401071.000000</td>\n",
       "      <td>401071.000000</td>\n",
       "    </tr>\n",
       "    <tr>\n",
       "      <th>mean</th>\n",
       "      <td>2.052282e+07</td>\n",
       "      <td>11.0</td>\n",
       "      <td>11442.252968</td>\n",
       "      <td>1.144238e+18</td>\n",
       "      <td>409.462442</td>\n",
       "      <td>136291.790244</td>\n",
       "      <td>5175.680167</td>\n",
       "      <td>126.996983</td>\n",
       "      <td>37.544965</td>\n",
       "    </tr>\n",
       "    <tr>\n",
       "      <th>std</th>\n",
       "      <td>5.322704e+06</td>\n",
       "      <td>0.0</td>\n",
       "      <td>200.674978</td>\n",
       "      <td>2.006699e+16</td>\n",
       "      <td>412.802944</td>\n",
       "      <td>14225.510291</td>\n",
       "      <td>2099.935420</td>\n",
       "      <td>0.080574</td>\n",
       "      <td>0.048108</td>\n",
       "    </tr>\n",
       "    <tr>\n",
       "      <th>min</th>\n",
       "      <td>2.890524e+06</td>\n",
       "      <td>11.0</td>\n",
       "      <td>11110.000000</td>\n",
       "      <td>1.111010e+18</td>\n",
       "      <td>1.000000</td>\n",
       "      <td>100011.000000</td>\n",
       "      <td>1000.000000</td>\n",
       "      <td>126.768169</td>\n",
       "      <td>37.434081</td>\n",
       "    </tr>\n",
       "    <tr>\n",
       "      <th>25%</th>\n",
       "      <td>1.601555e+07</td>\n",
       "      <td>11.0</td>\n",
       "      <td>11230.000000</td>\n",
       "      <td>1.123071e+18</td>\n",
       "      <td>89.000000</td>\n",
       "      <td>131200.000000</td>\n",
       "      <td>3414.000000</td>\n",
       "      <td>126.928061</td>\n",
       "      <td>37.505431</td>\n",
       "    </tr>\n",
       "    <tr>\n",
       "      <th>50%</th>\n",
       "      <td>2.237100e+07</td>\n",
       "      <td>11.0</td>\n",
       "      <td>11470.000000</td>\n",
       "      <td>1.147010e+18</td>\n",
       "      <td>289.000000</td>\n",
       "      <td>136801.000000</td>\n",
       "      <td>5242.000000</td>\n",
       "      <td>127.012732</td>\n",
       "      <td>37.541162</td>\n",
       "    </tr>\n",
       "    <tr>\n",
       "      <th>75%</th>\n",
       "      <td>2.493524e+07</td>\n",
       "      <td>11.0</td>\n",
       "      <td>11650.000000</td>\n",
       "      <td>1.165010e+18</td>\n",
       "      <td>635.000000</td>\n",
       "      <td>143848.000000</td>\n",
       "      <td>6716.000000</td>\n",
       "      <td>127.057331</td>\n",
       "      <td>37.571921</td>\n",
       "    </tr>\n",
       "    <tr>\n",
       "      <th>max</th>\n",
       "      <td>2.852486e+07</td>\n",
       "      <td>11.0</td>\n",
       "      <td>11740.000000</td>\n",
       "      <td>1.174070e+18</td>\n",
       "      <td>9994.000000</td>\n",
       "      <td>158885.000000</td>\n",
       "      <td>8866.000000</td>\n",
       "      <td>127.182588</td>\n",
       "      <td>37.692398</td>\n",
       "    </tr>\n",
       "  </tbody>\n",
       "</table>\n",
       "</div>"
      ],
      "text/plain": [
       "             상가업소번호      시도코드          시군구코드          지번코드          지번본번지  \\\n",
       "count  4.010710e+05  401071.0  401071.000000  4.010710e+05  401071.000000   \n",
       "mean   2.052282e+07      11.0   11442.252968  1.144238e+18     409.462442   \n",
       "std    5.322704e+06       0.0     200.674978  2.006699e+16     412.802944   \n",
       "min    2.890524e+06      11.0   11110.000000  1.111010e+18       1.000000   \n",
       "25%    1.601555e+07      11.0   11230.000000  1.123071e+18      89.000000   \n",
       "50%    2.237100e+07      11.0   11470.000000  1.147010e+18     289.000000   \n",
       "75%    2.493524e+07      11.0   11650.000000  1.165010e+18     635.000000   \n",
       "max    2.852486e+07      11.0   11740.000000  1.174070e+18    9994.000000   \n",
       "\n",
       "               구우편번호          신우편번호             경도             위도  \n",
       "count  401071.000000  401069.000000  401071.000000  401071.000000  \n",
       "mean   136291.790244    5175.680167     126.996983      37.544965  \n",
       "std     14225.510291    2099.935420       0.080574       0.048108  \n",
       "min    100011.000000    1000.000000     126.768169      37.434081  \n",
       "25%    131200.000000    3414.000000     126.928061      37.505431  \n",
       "50%    136801.000000    5242.000000     127.012732      37.541162  \n",
       "75%    143848.000000    6716.000000     127.057331      37.571921  \n",
       "max    158885.000000    8866.000000     127.182588      37.692398  "
      ]
     },
     "execution_count": 40,
     "metadata": {},
     "output_type": "execute_result"
    }
   ],
   "source": [
    "# describe 를 하게 되면 요약된 데이터 정보를 볼 수 있다.\n",
    "df_seoul.describe()"
   ]
  },
  {
   "cell_type": "code",
   "execution_count": 42,
   "metadata": {},
   "outputs": [
    {
     "data": {
      "text/html": [
       "<div>\n",
       "<style scoped>\n",
       "    .dataframe tbody tr th:only-of-type {\n",
       "        vertical-align: middle;\n",
       "    }\n",
       "\n",
       "    .dataframe tbody tr th {\n",
       "        vertical-align: top;\n",
       "    }\n",
       "\n",
       "    .dataframe thead th {\n",
       "        text-align: right;\n",
       "    }\n",
       "</style>\n",
       "<table border=\"1\" class=\"dataframe\">\n",
       "  <thead>\n",
       "    <tr style=\"text-align: right;\">\n",
       "      <th></th>\n",
       "      <th>위도</th>\n",
       "      <th>경도</th>\n",
       "    </tr>\n",
       "  </thead>\n",
       "  <tbody>\n",
       "    <tr>\n",
       "      <th>count</th>\n",
       "      <td>401071.000000</td>\n",
       "      <td>401071.000000</td>\n",
       "    </tr>\n",
       "    <tr>\n",
       "      <th>mean</th>\n",
       "      <td>37.544965</td>\n",
       "      <td>126.996983</td>\n",
       "    </tr>\n",
       "    <tr>\n",
       "      <th>std</th>\n",
       "      <td>0.048108</td>\n",
       "      <td>0.080574</td>\n",
       "    </tr>\n",
       "    <tr>\n",
       "      <th>min</th>\n",
       "      <td>37.434081</td>\n",
       "      <td>126.768169</td>\n",
       "    </tr>\n",
       "    <tr>\n",
       "      <th>25%</th>\n",
       "      <td>37.505431</td>\n",
       "      <td>126.928061</td>\n",
       "    </tr>\n",
       "    <tr>\n",
       "      <th>50%</th>\n",
       "      <td>37.541162</td>\n",
       "      <td>127.012732</td>\n",
       "    </tr>\n",
       "    <tr>\n",
       "      <th>75%</th>\n",
       "      <td>37.571921</td>\n",
       "      <td>127.057331</td>\n",
       "    </tr>\n",
       "    <tr>\n",
       "      <th>max</th>\n",
       "      <td>37.692398</td>\n",
       "      <td>127.182588</td>\n",
       "    </tr>\n",
       "  </tbody>\n",
       "</table>\n",
       "</div>"
      ],
      "text/plain": [
       "                  위도             경도\n",
       "count  401071.000000  401071.000000\n",
       "mean       37.544965     126.996983\n",
       "std         0.048108       0.080574\n",
       "min        37.434081     126.768169\n",
       "25%        37.505431     126.928061\n",
       "50%        37.541162     127.012732\n",
       "75%        37.571921     127.057331\n",
       "max        37.692398     127.182588"
      ]
     },
     "execution_count": 42,
     "metadata": {},
     "output_type": "execute_result"
    }
   ],
   "source": [
    "# 위도와 경도만 describe 를 통해 요약해본다.\n",
    "df_seoul[['위도','경도']].describe()"
   ]
  },
  {
   "cell_type": "markdown",
   "metadata": {},
   "source": [
    "## 분류별 countplot 그리기"
   ]
  },
  {
   "cell_type": "code",
   "execution_count": 43,
   "metadata": {},
   "outputs": [
    {
     "data": {
      "text/plain": [
       "<matplotlib.axes._subplots.AxesSubplot at 0x21ff4258358>"
      ]
     },
     "execution_count": 43,
     "metadata": {},
     "output_type": "execute_result"
    },
    {
     "data": {
      "image/png": "[encoded data removed]",
      "text/plain": [
       "<Figure size 432x288 with 1 Axes>"
      ]
     },
     "metadata": {
      "needs_background": "light"
     },
     "output_type": "display_data"
    }
   ],
   "source": [
    "# 상권업종대분류명 으로 seaborn 의 countplot 을 사용해 시각화를 한다.\n",
    "# seaborn 의 countplot은 같은 데이터를 그룹화하여 더해준 값을 그래프로 표현한다.\n",
    "sns.countplot(data=df_seoul, y='상권업종대분류명')"
   ]
  },
  {
   "cell_type": "code",
   "execution_count": 46,
   "metadata": {},
   "outputs": [
    {
     "data": {
      "text/plain": [
       "<matplotlib.axes._subplots.AxesSubplot at 0x21ffff6b2b0>"
      ]
     },
     "execution_count": 46,
     "metadata": {},
     "output_type": "execute_result"
    },
    {
     "data": {
      "image/png": "[encoded data removed]",
      "text/plain": [
       "<Figure size 432x288 with 1 Axes>"
      ]
     },
     "metadata": {
      "needs_background": "light"
     },
     "output_type": "display_data"
    }
   ],
   "source": [
    "# countplot 을 그리면 해당 카테고리에 해당되는 데이터의 수를 카운트해서 시각화한다.\n",
    "# \"상권업종대분류명\"을 시각화하면 \"음식\" 업종이 가장 많다.\n",
    "\n",
    "df_food = df_seoul[df_seoul['상권업종대분류명'] == '음식']\n",
    "\n",
    "sns.countplot(data=df_food, y='상권업종중분류명')"
   ]
  },
  {
   "cell_type": "code",
   "execution_count": 47,
   "metadata": {},
   "outputs": [
    {
     "data": {
      "text/html": [
       "<div>\n",
       "<style scoped>\n",
       "    .dataframe tbody tr th:only-of-type {\n",
       "        vertical-align: middle;\n",
       "    }\n",
       "\n",
       "    .dataframe tbody tr th {\n",
       "        vertical-align: top;\n",
       "    }\n",
       "\n",
       "    .dataframe thead th {\n",
       "        text-align: right;\n",
       "    }\n",
       "</style>\n",
       "<table border=\"1\" class=\"dataframe\">\n",
       "  <thead>\n",
       "    <tr style=\"text-align: right;\">\n",
       "      <th></th>\n",
       "      <th>상가업소번호</th>\n",
       "      <th>상호명</th>\n",
       "      <th>상권업종대분류명</th>\n",
       "      <th>상권업종중분류명</th>\n",
       "      <th>상권업종소분류명</th>\n",
       "      <th>시도코드</th>\n",
       "      <th>시도명</th>\n",
       "      <th>시군구코드</th>\n",
       "      <th>시군구명</th>\n",
       "      <th>행정동명</th>\n",
       "      <th>법정동명</th>\n",
       "      <th>지번코드</th>\n",
       "      <th>대지구분명</th>\n",
       "      <th>지번본번지</th>\n",
       "      <th>지번주소</th>\n",
       "      <th>도로명주소</th>\n",
       "      <th>구우편번호</th>\n",
       "      <th>신우편번호</th>\n",
       "      <th>경도</th>\n",
       "      <th>위도</th>\n",
       "    </tr>\n",
       "  </thead>\n",
       "  <tbody>\n",
       "    <tr>\n",
       "      <th>5</th>\n",
       "      <td>19964615</td>\n",
       "      <td>석봉토스트</td>\n",
       "      <td>음식</td>\n",
       "      <td>패스트푸드</td>\n",
       "      <td>토스트전문</td>\n",
       "      <td>11</td>\n",
       "      <td>서울특별시</td>\n",
       "      <td>11215</td>\n",
       "      <td>광진구</td>\n",
       "      <td>구의2동</td>\n",
       "      <td>구의동</td>\n",
       "      <td>1121510300200770047</td>\n",
       "      <td>대지</td>\n",
       "      <td>77</td>\n",
       "      <td>서울특별시 광진구 구의동 77-47</td>\n",
       "      <td>서울특별시 광진구 자양로39길 20</td>\n",
       "      <td>143200</td>\n",
       "      <td>4992.0</td>\n",
       "      <td>127.088387</td>\n",
       "      <td>37.549245</td>\n",
       "    </tr>\n",
       "    <tr>\n",
       "      <th>7</th>\n",
       "      <td>19977290</td>\n",
       "      <td>피자마루</td>\n",
       "      <td>음식</td>\n",
       "      <td>패스트푸드</td>\n",
       "      <td>피자전문</td>\n",
       "      <td>11</td>\n",
       "      <td>서울특별시</td>\n",
       "      <td>11140</td>\n",
       "      <td>중구</td>\n",
       "      <td>약수동</td>\n",
       "      <td>신당동</td>\n",
       "      <td>1114016200203720095</td>\n",
       "      <td>대지</td>\n",
       "      <td>372</td>\n",
       "      <td>서울특별시 중구 신당동 372-95</td>\n",
       "      <td>서울특별시 중구 동호로7길 37</td>\n",
       "      <td>100450</td>\n",
       "      <td>4596.0</td>\n",
       "      <td>127.010861</td>\n",
       "      <td>37.552153</td>\n",
       "    </tr>\n",
       "  </tbody>\n",
       "</table>\n",
       "</div>"
      ],
      "text/plain": [
       "     상가업소번호    상호명 상권업종대분류명 상권업종중분류명 상권업종소분류명  시도코드    시도명  시군구코드 시군구명  행정동명  \\\n",
       "5  19964615  석봉토스트       음식    패스트푸드    토스트전문    11  서울특별시  11215  광진구  구의2동   \n",
       "7  19977290   피자마루       음식    패스트푸드     피자전문    11  서울특별시  11140   중구   약수동   \n",
       "\n",
       "  법정동명                 지번코드 대지구분명  지번본번지                 지번주소  \\\n",
       "5  구의동  1121510300200770047    대지     77  서울특별시 광진구 구의동 77-47   \n",
       "7  신당동  1114016200203720095    대지    372  서울특별시 중구 신당동 372-95   \n",
       "\n",
       "                 도로명주소   구우편번호   신우편번호          경도         위도  \n",
       "5  서울특별시 광진구 자양로39길 20  143200  4992.0  127.088387  37.549245  \n",
       "7    서울특별시 중구 동호로7길 37  100450  4596.0  127.010861  37.552153  "
      ]
     },
     "execution_count": 47,
     "metadata": {},
     "output_type": "execute_result"
    }
   ],
   "source": [
    "# 특정 업종 \"패스트푸드\" 만 보도록 한다.\n",
    "\n",
    "df_fast_food = df_food.loc[df_food['상권업종중분류명'] == '패스트푸드']\n",
    "df_fast_food.head(2)"
   ]
  },
  {
   "cell_type": "code",
   "execution_count": 48,
   "metadata": {},
   "outputs": [
    {
     "data": {
      "text/plain": [
       "Index(['상가업소번호', '상호명', '상권업종대분류명', '상권업종중분류명', '상권업종소분류명', '시도코드', '시도명',\n",
       "       '시군구코드', '시군구명', '행정동명', '법정동명', '지번코드', '대지구분명', '지번본번지', '지번주소',\n",
       "       '도로명주소', '구우편번호', '신우편번호', '경도', '위도'],\n",
       "      dtype='object')"
      ]
     },
     "execution_count": 48,
     "metadata": {},
     "output_type": "execute_result"
    }
   ],
   "source": [
    "# 해당 데이터에서 특정 컬럼만 가져오고 싶은데 컬럼명이 생각나지 않는다면 컬럼명만 가져와본다.\n",
    "\n",
    "df_fast_food.columns"
   ]
  },
  {
   "cell_type": "code",
   "execution_count": 49,
   "metadata": {},
   "outputs": [
    {
     "data": {
      "text/plain": [
       "array(['석봉토스트', '피자마루', '솔로몬피자', ..., '몬스터피자&펍', '피자뽀끼', '피자레볼루션'],\n",
       "      dtype=object)"
      ]
     },
     "execution_count": 49,
     "metadata": {},
     "output_type": "execute_result"
    }
   ],
   "source": [
    "# 상호명을 unique 로 출력해본다.\n",
    "\n",
    "df_fast_food['상호명'].unique()"
   ]
  },
  {
   "cell_type": "code",
   "execution_count": null,
   "metadata": {},
   "outputs": [],
   "source": []
  }
 ],
 "metadata": {
  "kernelspec": {
   "display_name": "Python 3",
   "language": "python",
   "name": "python3"
  },
  "language_info": {
   "codemirror_mode": {
    "name": "ipython",
    "version": 3
   },
   "file_extension": ".py",
   "mimetype": "text/x-python",
   "name": "python",
   "nbconvert_exporter": "python",
   "pygments_lexer": "ipython3",
   "version": "3.7.3"
  }
 },
 "nbformat": 4,
 "nbformat_minor": 4
}
