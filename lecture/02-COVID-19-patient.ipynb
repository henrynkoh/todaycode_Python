{
 "cells": [
  {
   "cell_type": "markdown",
   "metadata": {},
   "source": [
    "* [Coronavirus-Dataset | Kaggle](https://www.kaggle.com/kimjihoo/coronavirusdataset)\n",
    "\n",
    "```\n",
    "1. patient 데이터셋 정보\n",
    "- id: 확진자의 id (n번째 확진자)\n",
    "- sex: 성별\n",
    "- birth_year: 출생 연도\n",
    "- country: 국적\n",
    "- region: 주 활동 지역 (광역시/도 단위)\n",
    "- group: 특정 집단 관련\n",
    "- infection_reason: 감염 경로\n",
    "- infection_order: 감염 차수 (n차 감염)\n",
    "- infected_by: 해당 확진자의 감염원 id\n",
    "- contact_number: 접촉자 수\n",
    "- confirmed_date: 확진 일자\n",
    "- released_date: 퇴원 일자 (격리 해제 일자)\n",
    "- deceased_date: 사망 일자\n",
    "- state: 상태\n",
    "\n",
    "2. route 데이터셋 정보\n",
    "- id: 확진자의 id (n번째 확진자)\n",
    "- date: 일자\n",
    "- province: 특별시/광역시/도\n",
    "- city: 시/군/구\n",
    "- visit: 방문한 장소 (종류)\n",
    "- latitude: 위도\n",
    "- longitude: 경도\n",
    "\n",
    "3. time 데이터셋 정보\n",
    "- date: 일자\n",
    "- acc_test: 누적 검사 수 (진행 중인 검사 포함)\n",
    "- acc_negative: 누적 음성 결과 수\n",
    "- acc_confirmed: 누적 양성 결과 수 (확진)\n",
    "- acc_released: 누적 격리 해제 수\n",
    "- acc_deceased: 누적 사망 수\n",
    "- new_test: 신규 검사 수\n",
    "- new_negative: 신규 음성 결과 수\n",
    "- new_confirmed: 신규 양성 결과 수 (확진)\n",
    "- new_released: 신규 격리 해제 수\n",
    "```"
   ]
  },
  {
   "cell_type": "markdown",
   "metadata": {},
   "source": [
    "## 라이브러리 로드"
   ]
  },
  {
   "cell_type": "code",
   "execution_count": 1,
   "metadata": {},
   "outputs": [],
   "source": [
    "import pandas as pd"
   ]
  },
  {
   "cell_type": "markdown",
   "metadata": {},
   "source": [
    "### 데이터셋 불러오기"
   ]
  },
  {
   "cell_type": "code",
   "execution_count": 2,
   "metadata": {},
   "outputs": [
    {
     "data": {
      "text/plain": [
       "(4812, 14)"
      ]
     },
     "execution_count": 2,
     "metadata": {},
     "output_type": "execute_result"
    }
   ],
   "source": [
    "df = pd.read_csv('data/patient.csv')\n",
    "df.shape"
   ]
  },
  {
   "cell_type": "code",
   "execution_count": 3,
   "metadata": {},
   "outputs": [
    {
     "data": {
      "text/html": [
       "<div>\n",
       "<style scoped>\n",
       "    .dataframe tbody tr th:only-of-type {\n",
       "        vertical-align: middle;\n",
       "    }\n",
       "\n",
       "    .dataframe tbody tr th {\n",
       "        vertical-align: top;\n",
       "    }\n",
       "\n",
       "    .dataframe thead th {\n",
       "        text-align: right;\n",
       "    }\n",
       "</style>\n",
       "<table border=\"1\" class=\"dataframe\">\n",
       "  <thead>\n",
       "    <tr style=\"text-align: right;\">\n",
       "      <th></th>\n",
       "      <th>id</th>\n",
       "      <th>sex</th>\n",
       "      <th>birth_year</th>\n",
       "      <th>country</th>\n",
       "      <th>region</th>\n",
       "      <th>group</th>\n",
       "      <th>infection_reason</th>\n",
       "      <th>infection_order</th>\n",
       "      <th>infected_by</th>\n",
       "      <th>contact_number</th>\n",
       "      <th>confirmed_date</th>\n",
       "      <th>released_date</th>\n",
       "      <th>deceased_date</th>\n",
       "      <th>state</th>\n",
       "    </tr>\n",
       "  </thead>\n",
       "  <tbody>\n",
       "    <tr>\n",
       "      <th>0</th>\n",
       "      <td>1</td>\n",
       "      <td>female</td>\n",
       "      <td>1984.0</td>\n",
       "      <td>China</td>\n",
       "      <td>filtered at airport</td>\n",
       "      <td>NaN</td>\n",
       "      <td>visit to Wuhan</td>\n",
       "      <td>1.0</td>\n",
       "      <td>NaN</td>\n",
       "      <td>45.0</td>\n",
       "      <td>2020-01-20</td>\n",
       "      <td>2020-02-06</td>\n",
       "      <td>NaN</td>\n",
       "      <td>released</td>\n",
       "    </tr>\n",
       "    <tr>\n",
       "      <th>1</th>\n",
       "      <td>2</td>\n",
       "      <td>male</td>\n",
       "      <td>1964.0</td>\n",
       "      <td>Korea</td>\n",
       "      <td>filtered at airport</td>\n",
       "      <td>NaN</td>\n",
       "      <td>visit to Wuhan</td>\n",
       "      <td>1.0</td>\n",
       "      <td>NaN</td>\n",
       "      <td>75.0</td>\n",
       "      <td>2020-01-24</td>\n",
       "      <td>2020-02-05</td>\n",
       "      <td>NaN</td>\n",
       "      <td>released</td>\n",
       "    </tr>\n",
       "    <tr>\n",
       "      <th>2</th>\n",
       "      <td>3</td>\n",
       "      <td>male</td>\n",
       "      <td>1966.0</td>\n",
       "      <td>Korea</td>\n",
       "      <td>capital area</td>\n",
       "      <td>NaN</td>\n",
       "      <td>visit to Wuhan</td>\n",
       "      <td>1.0</td>\n",
       "      <td>NaN</td>\n",
       "      <td>16.0</td>\n",
       "      <td>2020-01-26</td>\n",
       "      <td>2020-02-12</td>\n",
       "      <td>NaN</td>\n",
       "      <td>released</td>\n",
       "    </tr>\n",
       "    <tr>\n",
       "      <th>3</th>\n",
       "      <td>4</td>\n",
       "      <td>male</td>\n",
       "      <td>1964.0</td>\n",
       "      <td>Korea</td>\n",
       "      <td>capital area</td>\n",
       "      <td>NaN</td>\n",
       "      <td>visit to Wuhan</td>\n",
       "      <td>1.0</td>\n",
       "      <td>NaN</td>\n",
       "      <td>95.0</td>\n",
       "      <td>2020-01-27</td>\n",
       "      <td>2020-02-09</td>\n",
       "      <td>NaN</td>\n",
       "      <td>released</td>\n",
       "    </tr>\n",
       "    <tr>\n",
       "      <th>4</th>\n",
       "      <td>5</td>\n",
       "      <td>male</td>\n",
       "      <td>1987.0</td>\n",
       "      <td>Korea</td>\n",
       "      <td>capital area</td>\n",
       "      <td>NaN</td>\n",
       "      <td>visit to Wuhan</td>\n",
       "      <td>1.0</td>\n",
       "      <td>NaN</td>\n",
       "      <td>31.0</td>\n",
       "      <td>2020-01-30</td>\n",
       "      <td>2020-03-02</td>\n",
       "      <td>NaN</td>\n",
       "      <td>released</td>\n",
       "    </tr>\n",
       "  </tbody>\n",
       "</table>\n",
       "</div>"
      ],
      "text/plain": [
       "   id     sex  birth_year country               region group infection_reason  \\\n",
       "0   1  female      1984.0   China  filtered at airport   NaN   visit to Wuhan   \n",
       "1   2    male      1964.0   Korea  filtered at airport   NaN   visit to Wuhan   \n",
       "2   3    male      1966.0   Korea         capital area   NaN   visit to Wuhan   \n",
       "3   4    male      1964.0   Korea         capital area   NaN   visit to Wuhan   \n",
       "4   5    male      1987.0   Korea         capital area   NaN   visit to Wuhan   \n",
       "\n",
       "   infection_order  infected_by  contact_number confirmed_date released_date  \\\n",
       "0              1.0          NaN            45.0     2020-01-20    2020-02-06   \n",
       "1              1.0          NaN            75.0     2020-01-24    2020-02-05   \n",
       "2              1.0          NaN            16.0     2020-01-26    2020-02-12   \n",
       "3              1.0          NaN            95.0     2020-01-27    2020-02-09   \n",
       "4              1.0          NaN            31.0     2020-01-30    2020-03-02   \n",
       "\n",
       "  deceased_date     state  \n",
       "0           NaN  released  \n",
       "1           NaN  released  \n",
       "2           NaN  released  \n",
       "3           NaN  released  \n",
       "4           NaN  released  "
      ]
     },
     "execution_count": 3,
     "metadata": {},
     "output_type": "execute_result"
    }
   ],
   "source": [
    "# head 로 미리보기\n",
    "df.head()"
   ]
  },
  {
   "cell_type": "code",
   "execution_count": 4,
   "metadata": {},
   "outputs": [
    {
     "data": {
      "text/html": [
       "<div>\n",
       "<style scoped>\n",
       "    .dataframe tbody tr th:only-of-type {\n",
       "        vertical-align: middle;\n",
       "    }\n",
       "\n",
       "    .dataframe tbody tr th {\n",
       "        vertical-align: top;\n",
       "    }\n",
       "\n",
       "    .dataframe thead th {\n",
       "        text-align: right;\n",
       "    }\n",
       "</style>\n",
       "<table border=\"1\" class=\"dataframe\">\n",
       "  <thead>\n",
       "    <tr style=\"text-align: right;\">\n",
       "      <th></th>\n",
       "      <th>id</th>\n",
       "      <th>sex</th>\n",
       "      <th>birth_year</th>\n",
       "      <th>country</th>\n",
       "      <th>region</th>\n",
       "      <th>group</th>\n",
       "      <th>infection_reason</th>\n",
       "      <th>infection_order</th>\n",
       "      <th>infected_by</th>\n",
       "      <th>contact_number</th>\n",
       "      <th>confirmed_date</th>\n",
       "      <th>released_date</th>\n",
       "      <th>deceased_date</th>\n",
       "      <th>state</th>\n",
       "    </tr>\n",
       "  </thead>\n",
       "  <tbody>\n",
       "    <tr>\n",
       "      <th>4807</th>\n",
       "      <td>4808</td>\n",
       "      <td>NaN</td>\n",
       "      <td>NaN</td>\n",
       "      <td>Korea</td>\n",
       "      <td>NaN</td>\n",
       "      <td>NaN</td>\n",
       "      <td>NaN</td>\n",
       "      <td>NaN</td>\n",
       "      <td>NaN</td>\n",
       "      <td>NaN</td>\n",
       "      <td>2020-03-02</td>\n",
       "      <td>NaN</td>\n",
       "      <td>NaN</td>\n",
       "      <td>isolated</td>\n",
       "    </tr>\n",
       "    <tr>\n",
       "      <th>4808</th>\n",
       "      <td>4809</td>\n",
       "      <td>NaN</td>\n",
       "      <td>NaN</td>\n",
       "      <td>Korea</td>\n",
       "      <td>NaN</td>\n",
       "      <td>NaN</td>\n",
       "      <td>NaN</td>\n",
       "      <td>NaN</td>\n",
       "      <td>NaN</td>\n",
       "      <td>NaN</td>\n",
       "      <td>2020-03-02</td>\n",
       "      <td>NaN</td>\n",
       "      <td>NaN</td>\n",
       "      <td>isolated</td>\n",
       "    </tr>\n",
       "    <tr>\n",
       "      <th>4809</th>\n",
       "      <td>4810</td>\n",
       "      <td>NaN</td>\n",
       "      <td>NaN</td>\n",
       "      <td>Korea</td>\n",
       "      <td>NaN</td>\n",
       "      <td>NaN</td>\n",
       "      <td>NaN</td>\n",
       "      <td>NaN</td>\n",
       "      <td>NaN</td>\n",
       "      <td>NaN</td>\n",
       "      <td>2020-03-02</td>\n",
       "      <td>NaN</td>\n",
       "      <td>NaN</td>\n",
       "      <td>isolated</td>\n",
       "    </tr>\n",
       "    <tr>\n",
       "      <th>4810</th>\n",
       "      <td>4811</td>\n",
       "      <td>NaN</td>\n",
       "      <td>NaN</td>\n",
       "      <td>Korea</td>\n",
       "      <td>NaN</td>\n",
       "      <td>NaN</td>\n",
       "      <td>NaN</td>\n",
       "      <td>NaN</td>\n",
       "      <td>NaN</td>\n",
       "      <td>NaN</td>\n",
       "      <td>2020-03-02</td>\n",
       "      <td>NaN</td>\n",
       "      <td>NaN</td>\n",
       "      <td>isolated</td>\n",
       "    </tr>\n",
       "    <tr>\n",
       "      <th>4811</th>\n",
       "      <td>4812</td>\n",
       "      <td>NaN</td>\n",
       "      <td>NaN</td>\n",
       "      <td>Korea</td>\n",
       "      <td>NaN</td>\n",
       "      <td>NaN</td>\n",
       "      <td>NaN</td>\n",
       "      <td>NaN</td>\n",
       "      <td>NaN</td>\n",
       "      <td>NaN</td>\n",
       "      <td>2020-03-02</td>\n",
       "      <td>NaN</td>\n",
       "      <td>NaN</td>\n",
       "      <td>isolated</td>\n",
       "    </tr>\n",
       "  </tbody>\n",
       "</table>\n",
       "</div>"
      ],
      "text/plain": [
       "        id  sex  birth_year country region group infection_reason  \\\n",
       "4807  4808  NaN         NaN   Korea    NaN   NaN              NaN   \n",
       "4808  4809  NaN         NaN   Korea    NaN   NaN              NaN   \n",
       "4809  4810  NaN         NaN   Korea    NaN   NaN              NaN   \n",
       "4810  4811  NaN         NaN   Korea    NaN   NaN              NaN   \n",
       "4811  4812  NaN         NaN   Korea    NaN   NaN              NaN   \n",
       "\n",
       "      infection_order  infected_by  contact_number confirmed_date  \\\n",
       "4807              NaN          NaN             NaN     2020-03-02   \n",
       "4808              NaN          NaN             NaN     2020-03-02   \n",
       "4809              NaN          NaN             NaN     2020-03-02   \n",
       "4810              NaN          NaN             NaN     2020-03-02   \n",
       "4811              NaN          NaN             NaN     2020-03-02   \n",
       "\n",
       "     released_date deceased_date     state  \n",
       "4807           NaN           NaN  isolated  \n",
       "4808           NaN           NaN  isolated  \n",
       "4809           NaN           NaN  isolated  \n",
       "4810           NaN           NaN  isolated  \n",
       "4811           NaN           NaN  isolated  "
      ]
     },
     "execution_count": 4,
     "metadata": {},
     "output_type": "execute_result"
    }
   ],
   "source": [
    "# tail 로 미리보기\n",
    "df.tail()"
   ]
  },
  {
   "cell_type": "code",
   "execution_count": 5,
   "metadata": {},
   "outputs": [
    {
     "name": "stdout",
     "output_type": "stream",
     "text": [
      "<class 'pandas.core.frame.DataFrame'>\n",
      "RangeIndex: 4812 entries, 0 to 4811\n",
      "Data columns (total 14 columns):\n",
      " #   Column            Non-Null Count  Dtype  \n",
      "---  ------            --------------  -----  \n",
      " 0   id                4812 non-null   int64  \n",
      " 1   sex               383 non-null    object \n",
      " 2   birth_year        370 non-null    float64\n",
      " 3   country           4812 non-null   object \n",
      " 4   region            371 non-null    object \n",
      " 5   group             81 non-null     object \n",
      " 6   infection_reason  140 non-null    object \n",
      " 7   infection_order   35 non-null     float64\n",
      " 8   infected_by       70 non-null     float64\n",
      " 9   contact_number    47 non-null     float64\n",
      " 10  confirmed_date    4812 non-null   object \n",
      " 11  released_date     32 non-null     object \n",
      " 12  deceased_date     20 non-null     object \n",
      " 13  state             4812 non-null   object \n",
      "dtypes: float64(4), int64(1), object(9)\n",
      "memory usage: 526.4+ KB\n"
     ]
    }
   ],
   "source": [
    "# info로 정보보기\n",
    "df.info()"
   ]
  },
  {
   "cell_type": "code",
   "execution_count": 6,
   "metadata": {},
   "outputs": [
    {
     "data": {
      "text/plain": [
       "<matplotlib.axes._subplots.AxesSubplot at 0x2690e6848d0>"
      ]
     },
     "execution_count": 6,
     "metadata": {},
     "output_type": "execute_result"
    },
    {
     "data": {
      "image/png": "[encoded data removed]",
      "text/plain": [
       "<Figure size 432x288 with 1 Axes>"
      ]
     },
     "metadata": {
      "needs_background": "light"
     },
     "output_type": "display_data"
    }
   ],
   "source": [
    "# 결측치 수 보기\n",
    "df.isnull().sum().plot.barh()"
   ]
  },
  {
   "cell_type": "markdown",
   "metadata": {},
   "source": [
    "## 컬럼정보 만들기\n",
    "* 영문으로 된 컬럼명을 한글로 표현하고자 할 때 사용합니다.\n",
    "* text 데이터로 dict 형태의 데이터 만들기"
   ]
  },
  {
   "cell_type": "code",
   "execution_count": 10,
   "metadata": {},
   "outputs": [
    {
     "data": {
      "text/plain": [
       "'- id: 확진자의 id (n번째 확진자)\\n- sex: 성별\\n- birth_year: 출생 연도\\n- country: 국적\\n- region: 주 활동 지역 (광역시/도 단위)\\n- group: 특정 집단 관련\\n- infection_reason: 감염 경로\\n- infection_order: 감염 차수 (n차 감염)\\n- infected_by: 해당 확진자의 감염원 id\\n- contact_number: 접촉자 수\\n- confirmed_date: 확진 일자\\n- released_date: 퇴원 일자 (격리 해제 일자)\\n- deceased_date: 사망 일자\\n- state: 상태'"
      ]
     },
     "execution_count": 10,
     "metadata": {},
     "output_type": "execute_result"
    }
   ],
   "source": [
    "cols_text = \"\"\"- id: 확진자의 id (n번째 확진자)\n",
    "- sex: 성별\n",
    "- birth_year: 출생 연도\n",
    "- country: 국적\n",
    "- region: 주 활동 지역 (광역시/도 단위)\n",
    "- group: 특정 집단 관련\n",
    "- infection_reason: 감염 경로\n",
    "- infection_order: 감염 차수 (n차 감염)\n",
    "- infected_by: 해당 확진자의 감염원 id\n",
    "- contact_number: 접촉자 수\n",
    "- confirmed_date: 확진 일자\n",
    "- released_date: 퇴원 일자 (격리 해제 일자)\n",
    "- deceased_date: 사망 일자\n",
    "- state: 상태\"\"\"\n",
    "cols_text"
   ]
  },
  {
   "cell_type": "code",
   "execution_count": 11,
   "metadata": {},
   "outputs": [],
   "source": [
    "cols_lst = cols_text.replace(\"- \",\"\").split(\"\\n\")\n",
    "dictionary ={}\n",
    "\n",
    "for i in cols_lst:\n",
    "\tdictionary[i.split(':')[0]] = i.split(\":\")[1].lstrip()"
   ]
  },
  {
   "cell_type": "code",
   "execution_count": 13,
   "metadata": {},
   "outputs": [
    {
     "data": {
      "text/plain": [
       "{'id': '확진자의 id (n번째 확진자)',\n",
       " 'sex': '성별',\n",
       " 'birth_year': '출생 연도',\n",
       " 'country': '국적',\n",
       " 'region': '주 활동 지역 (광역시/도 단위)',\n",
       " 'group': '특정 집단 관련',\n",
       " 'infection_reason': '감염 경로',\n",
       " 'infection_order': '감염 차수 (n차 감염)',\n",
       " 'infected_by': '해당 확진자의 감염원 id',\n",
       " 'contact_number': '접촉자 수',\n",
       " 'confirmed_date': '확진 일자',\n",
       " 'released_date': '퇴원 일자 (격리 해제 일자)',\n",
       " 'deceased_date': '사망 일자',\n",
       " 'state': '상태'}"
      ]
     },
     "execution_count": 13,
     "metadata": {},
     "output_type": "execute_result"
    }
   ],
   "source": [
    "dictionary"
   ]
  },
  {
   "cell_type": "code",
   "execution_count": 14,
   "metadata": {},
   "outputs": [
    {
     "data": {
      "text/plain": [
       "'확진 일자'"
      ]
     },
     "execution_count": 14,
     "metadata": {},
     "output_type": "execute_result"
    }
   ],
   "source": [
    "dictionary['confirmed_date']"
   ]
  },
  {
   "cell_type": "code",
   "execution_count": 8,
   "metadata": {},
   "outputs": [
    {
     "data": {
      "text/plain": [
       "'{\"id\":\"확진자의 id (n번째 확진자)\",\"sex\":\"성별\",\"birth_year\":\"출생 연도\",\"country\":\"국적\",\"region\":\"주 활동 지역 (광역시/도 단위)\",\"group\":\"특정 집단 관련\",\"infection_reason\":\"감염 경로\",\"infection_order\":\"감염 차수 (n차 감염)\",\"infected_by\":\"해당 확진자의 감염원 id\",\"contact_number\":\"접촉자 수\",\"confirmed_date\":\"확진 일자\",\"released_date\":\"퇴원 일자 (격리 해제 일자)\",\"deceased_date\":\"사망 일자\",\"state\":\"상태\"}'"
      ]
     },
     "execution_count": 8,
     "metadata": {},
     "output_type": "execute_result"
    }
   ],
   "source": [
    "# dict 형태로 만들기 위해 전처리 하기\n",
    "{'key':'value',}\n",
    "cols_dict = cols_text.replace(': ', '\":\"').replace('\\n', '\",').replace('- ','\"')\n",
    "cols_dict = '{' + cols_dict + '\"}'\n",
    "cols_dict"
   ]
  },
  {
   "cell_type": "code",
   "execution_count": 9,
   "metadata": {},
   "outputs": [
    {
     "data": {
      "text/plain": [
       "{'id': '확진자의 id (n번째 확진자)',\n",
       " 'sex': '성별',\n",
       " 'birth_year': '출생 연도',\n",
       " 'country': '국적',\n",
       " 'region': '주 활동 지역 (광역시/도 단위)',\n",
       " 'group': '특정 집단 관련',\n",
       " 'infection_reason': '감염 경로',\n",
       " 'infection_order': '감염 차수 (n차 감염)',\n",
       " 'infected_by': '해당 확진자의 감염원 id',\n",
       " 'contact_number': '접촉자 수',\n",
       " 'confirmed_date': '확진 일자',\n",
       " 'released_date': '퇴원 일자 (격리 해제 일자)',\n",
       " 'deceased_date': '사망 일자',\n",
       " 'state': '상태'}"
      ]
     },
     "execution_count": 9,
     "metadata": {},
     "output_type": "execute_result"
    }
   ],
   "source": [
    "# dict는 {}로 감싸져 있기 때문에 {} 로 감싸고 eval로 dict 형태로 만듭니다.\n",
    "cols = eval(cols_dict)\n",
    "cols"
   ]
  },
  {
   "cell_type": "code",
   "execution_count": 15,
   "metadata": {},
   "outputs": [
    {
     "data": {
      "text/plain": [
       "'확진 일자'"
      ]
     },
     "execution_count": 15,
     "metadata": {},
     "output_type": "execute_result"
    }
   ],
   "source": [
    "# 'confirmed_date' 확진 일자 컬럼을 가져와서 전처리가 잘 되었는지 봅니다.\n",
    "\n",
    "cols['confirmed_date']"
   ]
  },
  {
   "cell_type": "code",
   "execution_count": 16,
   "metadata": {},
   "outputs": [],
   "source": [
    "import seaborn as sns\n",
    "import matplotlib.pyplot as plt\n",
    "\n",
    "# Win\n",
    "sns.set(font=\"Malgun Gothic\")\n",
    "# 마이너스 폰트 깨지는 문제\n",
    "plt.rc('axes', unicode_minus=False)"
   ]
  },
  {
   "cell_type": "markdown",
   "metadata": {},
   "source": [
    "## 일자별 확진자와 누적확진자\n",
    "### countplot 사용하기"
   ]
  },
  {
   "cell_type": "code",
   "execution_count": 17,
   "metadata": {},
   "outputs": [
    {
     "data": {
      "text/plain": [
       "<matplotlib.axes._subplots.AxesSubplot at 0x26911a2c208>"
      ]
     },
     "execution_count": 17,
     "metadata": {},
     "output_type": "execute_result"
    },
    {
     "data": {
      "image/png": "[encoded data removed]",
      "text/plain": [
       "<Figure size 864x216 with 1 Axes>"
      ]
     },
     "metadata": {},
     "output_type": "display_data"
    }
   ],
   "source": [
    "# seaborn 의 countplot 으로 시각화\n",
    "\n",
    "plt.figure(figsize=(12,3))\n",
    "plt.xticks(rotation=70)\n",
    "sns.countplot(data=df, x='confirmed_date')"
   ]
  },
  {
   "cell_type": "markdown",
   "metadata": {},
   "source": [
    "### 날짜표현을 다르게 하기"
   ]
  },
  {
   "cell_type": "code",
   "execution_count": 18,
   "metadata": {},
   "outputs": [],
   "source": [
    "#  확진일자 컬럼 만들기 confirmed_date 로 월과 일만 분리합니다.\n",
    "df['확진일자'] = df['confirmed_date'].str.replace('2020-','')"
   ]
  },
  {
   "cell_type": "code",
   "execution_count": 19,
   "metadata": {},
   "outputs": [
    {
     "data": {
      "text/plain": [
       "<matplotlib.axes._subplots.AxesSubplot at 0x26911de89b0>"
      ]
     },
     "execution_count": 19,
     "metadata": {},
     "output_type": "execute_result"
    },
    {
     "data": {
      "image/png": "[encoded data removed]",
      "text/plain": [
       "<Figure size 1080x288 with 1 Axes>"
      ]
     },
     "metadata": {},
     "output_type": "display_data"
    }
   ],
   "source": [
    "# countplot 으로 확진일자의 빈도수를 구합니다.\n",
    "plt.figure(figsize=(15,4))\n",
    "plt.xticks(rotation=60)\n",
    "sns.countplot(data=df, x='확진일자')"
   ]
  },
  {
   "cell_type": "markdown",
   "metadata": {},
   "source": [
    "### value_counts를 이용해서 일자별 확진자와 누적확진자 수 구하기"
   ]
  },
  {
   "cell_type": "code",
   "execution_count": 24,
   "metadata": {},
   "outputs": [
    {
     "data": {
      "text/plain": [
       "2020-03-01    1062\n",
       "2020-02-29     813\n",
       "2020-03-02     600\n",
       "2020-02-28     571\n",
       "2020-02-27     505\n",
       "2020-02-26     285\n",
       "2020-02-24     231\n",
       "2020-02-22     229\n",
       "2020-02-23     169\n",
       "2020-02-25     143\n",
       "2020-02-21     100\n",
       "2020-02-20      39\n",
       "2020-02-19      26\n",
       "2020-02-18       9\n",
       "2020-02-05       5\n",
       "2020-01-31       4\n",
       "2020-02-09       3\n",
       "2020-02-06       3\n",
       "2020-02-02       3\n",
       "2020-01-30       3\n",
       "2020-02-16       2\n",
       "2020-01-26       1\n",
       "2020-01-27       1\n",
       "2020-01-20       1\n",
       "2020-01-24       1\n",
       "2020-02-01       1\n",
       "2020-02-04       1\n",
       "2020-02-10       1\n",
       "Name: confirmed_date, dtype: int64"
      ]
     },
     "execution_count": 24,
     "metadata": {},
     "output_type": "execute_result"
    }
   ],
   "source": [
    "# value_counts 를 이용해서 일자별 확진자와 누적확진자 수를 구합니다.\n",
    "df['confirmed_date'].value_counts()"
   ]
  },
  {
   "cell_type": "markdown",
   "metadata": {},
   "source": [
    "### value_counts 로 구한 결과 시각화 하기"
   ]
  },
  {
   "cell_type": "code",
   "execution_count": null,
   "metadata": {},
   "outputs": [],
   "source": [
    "# pointplot, barplot 으로 일자별 sum, count 값을 시각화 합니다.\n",
    "\n"
   ]
  },
  {
   "cell_type": "markdown",
   "metadata": {},
   "source": [
    "### 로그가 없는 날짜도 0으로 값을 채워주기\n",
    "* 확진자가 없는 날짜는 날짜컬럼에 없습니다. 그래서 날짜별로 변동을 보기 위해 1월 20일부터 마지막 로그 사이의 비어있는 날짜를 채웁니다."
   ]
  },
  {
   "cell_type": "code",
   "execution_count": null,
   "metadata": {},
   "outputs": [],
   "source": [
    "# 컬럼명을 보기위해 데이터를 미리보기 합니다.\n",
    "\n"
   ]
  },
  {
   "cell_type": "code",
   "execution_count": null,
   "metadata": {},
   "outputs": [],
   "source": [
    "# loc[행, 열] 로 데이터에 접근할 수 있습니다. \n",
    "# 데이터프레임의 첫번째 날짜는 first_day 에 마지막 날짜는 last_day 에 담습니다.\n"
   ]
  },
  {
   "cell_type": "code",
   "execution_count": null,
   "metadata": {},
   "outputs": [],
   "source": [
    "# pd.date_range 를 통해 시작하는 날짜부터 끝나는 날짜까지의 DatetimeIndex 를 만들고 days 라는 변수에 저장합니다.\n",
    "days"
   ]
  },
  {
   "cell_type": "code",
   "execution_count": null,
   "metadata": {},
   "outputs": [],
   "source": [
    "# days 변수의 값으로 \"연월일\" 이라는 컬럼이름을 갖는 데이터프레임을 만듭니다.\n",
    "\n"
   ]
  },
  {
   "cell_type": "code",
   "execution_count": null,
   "metadata": {},
   "outputs": [],
   "source": [
    "# days 의 데이터프레임 정보를 봅니다.\n"
   ]
  },
  {
   "cell_type": "code",
   "execution_count": null,
   "metadata": {},
   "outputs": [],
   "source": [
    "# df의 정보를 다시 봅니다. 두 데이터를 어떻게 merge 하면 좋을지 생각해 봅니다.\n",
    "\n"
   ]
  },
  {
   "cell_type": "markdown",
   "metadata": {},
   "source": [
    "## 일자별, 성별 확진자 수\n",
    "* groupby 로 데이터를 그룹화하여 성별에 따라 일자별 확진자 수를 구합니다."
   ]
  },
  {
   "cell_type": "code",
   "execution_count": null,
   "metadata": {},
   "outputs": [],
   "source": [
    "# groupby 로 데이터를 그룹화하여 성별에 따라 일자별 확진자 수를 구합니다.\n",
    "\n"
   ]
  },
  {
   "cell_type": "code",
   "execution_count": null,
   "metadata": {},
   "outputs": [],
   "source": [
    "# merge를 위해 연월일 컬럼을 str 형태로 변경합니다.\n",
    "\n"
   ]
  },
  {
   "cell_type": "markdown",
   "metadata": {},
   "source": [
    "### merge 로 모든 날짜에 대한 데이터 만들기"
   ]
  },
  {
   "cell_type": "code",
   "execution_count": null,
   "metadata": {},
   "outputs": [],
   "source": [
    "# days_all 이라는 변수에 연월일 데이터를 담습니다.\n",
    "\n"
   ]
  },
  {
   "cell_type": "markdown",
   "metadata": {},
   "source": [
    "### 성별 누적 확진자 수 구하기\n",
    "* cumsum 을 사용해 누적 확진자의 수를 구합니다."
   ]
  },
  {
   "cell_type": "code",
   "execution_count": null,
   "metadata": {},
   "outputs": [],
   "source": [
    "# 성별 누적 확진자 수 구하기\n",
    "# female_cum, male_cum 변수에 담습니다.\n",
    "\n"
   ]
  },
  {
   "cell_type": "markdown",
   "metadata": {},
   "source": [
    "### 성별 누적 확진 수\n",
    "* Pandas 의 plot은 x축에 인덱스의 값을 y축에 컬럼의 값을 사용합니다."
   ]
  },
  {
   "cell_type": "code",
   "execution_count": null,
   "metadata": {
    "scrolled": true
   },
   "outputs": [],
   "source": [
    "# 성별 확진 누적수를 판다스로 시각화 합니다.\n",
    "\n"
   ]
  },
  {
   "cell_type": "code",
   "execution_count": null,
   "metadata": {},
   "outputs": [],
   "source": [
    "# 날짜를 x축에 나타내고자 하면 set_index 를 통해 연월일 컬럼을 인덱스로 지정합니다.\n",
    "\n"
   ]
  },
  {
   "cell_type": "markdown",
   "metadata": {},
   "source": [
    "## 연령대별 확진자 보기"
   ]
  },
  {
   "cell_type": "code",
   "execution_count": null,
   "metadata": {},
   "outputs": [],
   "source": [
    "# 연령대에 결측치가 없는 데이터만 따로 df_age라는 변수에 담습니다.\n",
    "\n"
   ]
  },
  {
   "cell_type": "code",
   "execution_count": null,
   "metadata": {},
   "outputs": [],
   "source": [
    "# birth_year를 수치데이터로 변환합니다.\n",
    "# 나이를 계산해서 age 컬럼에 담습니다.\n",
    "\n"
   ]
  },
  {
   "cell_type": "code",
   "execution_count": null,
   "metadata": {},
   "outputs": [],
   "source": [
    "# countplot 으로 연령대 데이터를 시각화 합니다.\n",
    "\n"
   ]
  },
  {
   "cell_type": "code",
   "execution_count": null,
   "metadata": {},
   "outputs": [],
   "source": [
    "# distplot 으로 연령대의 분포를 봅니다.\n",
    "\n"
   ]
  },
  {
   "cell_type": "markdown",
   "metadata": {},
   "source": [
    "## 접촉자 수"
   ]
  },
  {
   "cell_type": "code",
   "execution_count": null,
   "metadata": {},
   "outputs": [],
   "source": [
    "# kdeplot 으로 접촉차 수를 구합니다.\n",
    "\n"
   ]
  },
  {
   "cell_type": "code",
   "execution_count": null,
   "metadata": {},
   "outputs": [],
   "source": [
    "# 전체 접촉자수의 누적을 구합니다.\n",
    "\n"
   ]
  },
  {
   "cell_type": "code",
   "execution_count": null,
   "metadata": {},
   "outputs": [],
   "source": [
    "# 100명이상 접촉자가 있는 데이터만 따로 봅니다.\n",
    "\n"
   ]
  },
  {
   "cell_type": "markdown",
   "metadata": {},
   "source": [
    "## 상태값 보기"
   ]
  },
  {
   "cell_type": "code",
   "execution_count": null,
   "metadata": {
    "scrolled": true
   },
   "outputs": [],
   "source": [
    "# 격리해제, 격리, 사망 상태에 따라 state 를 countplot 으로 시각화 합니다.\n",
    "\n"
   ]
  },
  {
   "cell_type": "code",
   "execution_count": null,
   "metadata": {},
   "outputs": [],
   "source": [
    "# state 값을 value_counts 로 구해봅니다.\n",
    "\n"
   ]
  },
  {
   "cell_type": "markdown",
   "metadata": {},
   "source": [
    "## 사망자 연령대 보기"
   ]
  },
  {
   "cell_type": "code",
   "execution_count": null,
   "metadata": {},
   "outputs": [],
   "source": [
    "cols[\"deceased_date\"]"
   ]
  },
  {
   "cell_type": "code",
   "execution_count": null,
   "metadata": {},
   "outputs": [],
   "source": [
    "# countplot 으로 일자별 데이터를 구합니다.\n",
    "\n"
   ]
  },
  {
   "cell_type": "code",
   "execution_count": null,
   "metadata": {},
   "outputs": [],
   "source": [
    "# 연령대 컬럼 만들기\n",
    "\n"
   ]
  },
  {
   "cell_type": "code",
   "execution_count": null,
   "metadata": {},
   "outputs": [],
   "source": [
    "# deceased 라는 변수에 데이터프레임 따로 저장하기 \n",
    "# age 컬럼 만들기\n",
    "\n"
   ]
  },
  {
   "cell_type": "markdown",
   "metadata": {},
   "source": [
    "### 날짜별 사망자 평균 연령"
   ]
  },
  {
   "cell_type": "code",
   "execution_count": null,
   "metadata": {},
   "outputs": [],
   "source": [
    "# barplot 으로 사망자 연령대의 평균을 봅니다.\n",
    "\n"
   ]
  },
  {
   "cell_type": "code",
   "execution_count": null,
   "metadata": {},
   "outputs": [],
   "source": [
    "# distplot 으로 사망자 연령대의 분포를 봅니다.\n",
    "\n"
   ]
  },
  {
   "cell_type": "markdown",
   "metadata": {},
   "source": [
    "## 감염집단 보기"
   ]
  },
  {
   "cell_type": "code",
   "execution_count": null,
   "metadata": {},
   "outputs": [],
   "source": [
    "# group 별 value_counts 구하기\n",
    "df[\"group\"].value_counts()"
   ]
  },
  {
   "cell_type": "code",
   "execution_count": null,
   "metadata": {},
   "outputs": [],
   "source": [
    "# infection_reason 별 value_counts 구하기\n",
    "\n"
   ]
  },
  {
   "cell_type": "code",
   "execution_count": null,
   "metadata": {},
   "outputs": [],
   "source": [
    "cols[\"region\"]"
   ]
  },
  {
   "cell_type": "code",
   "execution_count": null,
   "metadata": {},
   "outputs": [],
   "source": [
    "# region 별 value_counts 구하고 시각화 해보기\n",
    "\n",
    "\n"
   ]
  },
  {
   "cell_type": "code",
   "execution_count": null,
   "metadata": {},
   "outputs": [],
   "source": []
  }
 ],
 "metadata": {
  "kernelspec": {
   "display_name": "Python 3",
   "language": "python",
   "name": "python3"
  },
  "language_info": {
   "codemirror_mode": {
    "name": "ipython",
    "version": 3
   },
   "file_extension": ".py",
   "mimetype": "text/x-python",
   "name": "python",
   "nbconvert_exporter": "python",
   "pygments_lexer": "ipython3",
   "version": "3.7.3"
  },
  "toc": {
   "base_numbering": 1,
   "nav_menu": {},
   "number_sections": true,
   "sideBar": true,
   "skip_h1_title": false,
   "title_cell": "Table of Contents",
   "title_sidebar": "Contents",
   "toc_cell": false,
   "toc_position": {},
   "toc_section_display": true,
   "toc_window_display": true
  },
  "varInspector": {
   "cols": {
    "lenName": 16,
    "lenType": 16,
    "lenVar": 40
   },
   "kernels_config": {
    "python": {
     "delete_cmd_postfix": "",
     "delete_cmd_prefix": "del ",
     "library": "var_list.py",
     "varRefreshCmd": "print(var_dic_list())"
    },
    "r": {
     "delete_cmd_postfix": ") ",
     "delete_cmd_prefix": "rm(",
     "library": "var_list.r",
     "varRefreshCmd": "cat(var_dic_list()) "
    }
   },
   "types_to_exclude": [
    "module",
    "function",
    "builtin_function_or_method",
    "instance",
    "_Feature"
   ],
   "window_display": false
  }
 },
 "nbformat": 4,
 "nbformat_minor": 4
}
