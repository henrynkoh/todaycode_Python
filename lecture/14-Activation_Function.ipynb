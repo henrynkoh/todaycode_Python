{
 "cells": [
  {
   "cell_type": "markdown",
   "metadata": {},
   "source": [
    "# Activation Function(활성화 함수)"
   ]
  },
  {
   "cell_type": "code",
   "execution_count": null,
   "metadata": {},
   "outputs": [],
   "source": [
    "import numpy as np\n",
    "import matplotlib.pylab as plt\n",
    " \n",
    "x = np.arange(-5, 5, 0.01)\n",
    "len(x)"
   ]
  },
  {
   "cell_type": "code",
   "execution_count": null,
   "metadata": {},
   "outputs": [],
   "source": [
    "plt.plot(x)"
   ]
  },
  {
   "cell_type": "markdown",
   "metadata": {},
   "source": [
    "## 선형함수"
   ]
  },
  {
   "cell_type": "code",
   "execution_count": null,
   "metadata": {},
   "outputs": [],
   "source": [
    "def identity_func(x): # 항등함수\n",
    "    return x\n",
    " \n",
    "#그래프 출력\n",
    "plt.plot(x, identity_func(x), linestyle='--', label=\"identity\")\n",
    " \n",
    "def linear_func(x): # 1차함수\n",
    "    return 1.5 * x + 1 # a기울기(1.5), Y절편b(1) 조정가능\n",
    " \n",
    "#그래프 출력\n",
    "plt.plot(x, linear_func(x), linestyle='--', label=\"linear\") \n",
    "plt.legend()"
   ]
  },
  {
   "cell_type": "markdown",
   "metadata": {},
   "source": [
    "## 계단함수"
   ]
  },
  {
   "cell_type": "code",
   "execution_count": null,
   "metadata": {},
   "outputs": [],
   "source": [
    "def binarystep_func(x): # 계단함수\n",
    "    return (x>=0)*1\n",
    "    # return np.array(x>=0, dtype = np.int) # same result\n",
    " \n",
    "    # y = x >= 0\n",
    "    # return y.astype(np.int) # Copy of the array, cast to a specified type.\n",
    "    # same result\n",
    "\n",
    "# 그래프 출력\n",
    "plt.plot(x, binarystep_func(x), linestyle='--', label=\"binary step\")\n",
    "\n",
    "def sgn_func(x): # 부호함수(sign function)\n",
    "    return (x>=0)*1 + (x<=0)*-1\n",
    " \n",
    "# 그래프 출력\n",
    "plt.plot(x, sgn_func(x), linestyle='--', label=\"sign function\")"
   ]
  },
  {
   "cell_type": "markdown",
   "metadata": {},
   "source": [
    "## Sigmoid계열"
   ]
  },
  {
   "cell_type": "code",
   "execution_count": null,
   "metadata": {},
   "outputs": [],
   "source": [
    "def softstep_func(x): # Soft step (= Logistic), 시그모이드(Sigmoid, S자모양) 대표적인 함수\n",
    "    return 1 / (1 + np.exp(-x))\n",
    " \n",
    "# 그래프 출력\n",
    "plt.plot(x, softstep_func(x), linestyle='--', label=\"Soft step (= Logistic)\")\n",
    "\n",
    "def tanh_func(x): # TanH 함수\n",
    "    return np.tanh(x)\n",
    "    # return 2 / (1 + np.exp(-2*x)) - 1 # same\n",
    "    \n",
    "# 그래프 출력\n",
    "plt.plot(x, tanh_func(x), linestyle='--', label=\"TanH\")\n",
    "\n",
    "def arctan_func(x): # ArcTan 함수\n",
    "    return np.arctan(x)\n",
    " \n",
    "# 그래프 출력\n",
    "plt.plot(x, arctan_func(x), linestyle='--', label=\"ArcTan\")\n",
    "\n",
    "def softsign_func(x): # Softsign 함수\n",
    "    return x / ( 1+ np.abs(x) )\n",
    " \n",
    "#그래프 출력\n",
    "plt.plot(x, softsign_func(x), linestyle='--', label=\"Softsign\")\n",
    "\n",
    "plt.legend()"
   ]
  },
  {
   "cell_type": "markdown",
   "metadata": {},
   "source": [
    "## ReLU계열"
   ]
  },
  {
   "cell_type": "code",
   "execution_count": null,
   "metadata": {},
   "outputs": [],
   "source": [
    "def relu_func(x): # ReLU(Rectified Linear Unit, 정류된 선형 유닛) 함수\n",
    "    return (x>0)*x\n",
    "    # return np.maximum(0,x) # same\n",
    "    \n",
    "#그래프 출력\n",
    "plt.plot(x, relu_func(x), linestyle='--', label=\"ReLU\")\n",
    "\n",
    "def leakyrelu_func(x): # Leaky ReLU(Rectified Linear Unit, 정류된 선형 유닛) 함수\n",
    "    return (x>=0)*x + (x<0)*0.01*x # 알파값(보통 0.01) 조정가능\n",
    "    # return np.maximum(0.01*x,x) # same\n",
    "    \n",
    "# 그래프 출력\n",
    "plt.plot(x, leakyrelu_func(x), linestyle='--', label=\"Leaky ReLU\")\n",
    "\n",
    "def elu_func(x): # ELU(Exponential linear unit)\n",
    "    return (x>=0)*x + (x<0)*0.01*(np.exp(x)-1)\n",
    " \n",
    "#그래프 출력\n",
    "plt.plot(x, elu_func(x), linestyle='--', label=\"ELU(Exponential linear unit)\")\n",
    "\n",
    "def trelu_func(x): # Thresholded ReLU\n",
    "    return (x>1)*x # 임계값(1) 조정 가능\n",
    " \n",
    "#그래프 출력\n",
    "plt.plot(x, trelu_func(x), linestyle='--', label=\"Thresholded ReLU\")\n",
    "plt.legend()"
   ]
  },
  {
   "cell_type": "markdown",
   "metadata": {},
   "source": [
    "## 기타"
   ]
  },
  {
   "cell_type": "code",
   "execution_count": null,
   "metadata": {},
   "outputs": [],
   "source": [
    "def softplus_func(x): # SoftPlus 함수\n",
    "    return np.log( 1 + np.exp(x) )\n",
    " \n",
    "#그래프 출력\n",
    "plt.plot(x, softplus_func(x), linestyle='--', label=\"SoftPlus\")\n",
    "\n",
    "def bentidentity_func(x): # Bent identity\n",
    "    return (np.sqrt(x*x+1)-1)/2+x\n",
    " \n",
    "#그래프 출력\n",
    "plt.plot(x, bentidentity_func(x), linestyle='--', label=\"Bent identity\")\n",
    "\n",
    "def gaussian_func(x): # Gaussian\n",
    "    return np.exp(-x*x)\n",
    " \n",
    "#그래프 출력\n",
    "plt.plot(x, gaussian_func(x), linestyle='--', label=\"Gaussian\")\n",
    "\n",
    "#plt.plot(x, y_identity, 'r--', x, relu_func(x), 'b--', x, softstep_func(x), 'g--')\n",
    "plt.ylim(-5, 5)\n",
    "plt.legend()\n",
    "plt.show()"
   ]
  },
  {
   "cell_type": "markdown",
   "metadata": {},
   "source": [
    "### Softmax\n",
    "* 분류에서 결과가 비율로 출력되기 때문에 가장 높은 값을 클래스의 결과로 사용합니다.\n",
    "* 결과 비율의 합은 1이 됩니다."
   ]
  },
  {
   "cell_type": "code",
   "execution_count": null,
   "metadata": {},
   "outputs": [],
   "source": [
    "def softmax(x):\n",
    "    e_x = np.exp(x - np.max(x))\n",
    "    return e_x / e_x.sum()\n",
    "\n",
    "y = softmax(x)\n",
    " \n",
    "plt.plot(x, y)"
   ]
  },
  {
   "cell_type": "code",
   "execution_count": null,
   "metadata": {},
   "outputs": [],
   "source": []
  },
  {
   "cell_type": "code",
   "execution_count": null,
   "metadata": {},
   "outputs": [],
   "source": []
  },
  {
   "cell_type": "code",
   "execution_count": null,
   "metadata": {},
   "outputs": [],
   "source": []
  },
  {
   "cell_type": "code",
   "execution_count": null,
   "metadata": {},
   "outputs": [],
   "source": []
  }
 ],
 "metadata": {
  "kernelspec": {
   "display_name": "Python 3",
   "language": "python",
   "name": "python3"
  },
  "language_info": {
   "codemirror_mode": {
    "name": "ipython",
    "version": 3
   },
   "file_extension": ".py",
   "mimetype": "text/x-python",
   "name": "python",
   "nbconvert_exporter": "python",
   "pygments_lexer": "ipython3",
   "version": "3.7.3"
  },
  "toc": {
   "base_numbering": 1,
   "nav_menu": {},
   "number_sections": true,
   "sideBar": true,
   "skip_h1_title": false,
   "title_cell": "Table of Contents",
   "title_sidebar": "Contents",
   "toc_cell": false,
   "toc_position": {},
   "toc_section_display": true,
   "toc_window_display": false
  },
  "varInspector": {
   "cols": {
    "lenName": 16,
    "lenType": 16,
    "lenVar": 40
   },
   "kernels_config": {
    "python": {
     "delete_cmd_postfix": "",
     "delete_cmd_prefix": "del ",
     "library": "var_list.py",
     "varRefreshCmd": "print(var_dic_list())"
    },
    "r": {
     "delete_cmd_postfix": ") ",
     "delete_cmd_prefix": "rm(",
     "library": "var_list.r",
     "varRefreshCmd": "cat(var_dic_list()) "
    }
   },
   "types_to_exclude": [
    "module",
    "function",
    "builtin_function_or_method",
    "instance",
    "_Feature"
   ],
   "window_display": false
  }
 },
 "nbformat": 4,
 "nbformat_minor": 4
}
